{
 "cells": [
  {
   "cell_type": "code",
   "execution_count": 1,
   "metadata": {},
   "outputs": [],
   "source": [
    "import numpy as np\n",
    "import pandas as pd\n",
    "import matplotlib.pyplot as plt\n",
    "import seaborn as sns\n",
    "import sklearn\n",
    "import random"
   ]
  },
  {
   "cell_type": "code",
   "execution_count": 2,
   "metadata": {},
   "outputs": [],
   "source": [
    "from sklearn.metrics import r2_score\n",
    "from sklearn.impute import KNNImputer"
   ]
  },
  {
   "cell_type": "code",
   "execution_count": 3,
   "metadata": {},
   "outputs": [],
   "source": [
    "heart = pd.read_csv('HeartData.csv')\n",
    "heart.drop('Unnamed: 0',axis=1,inplace=True)"
   ]
  },
  {
   "cell_type": "code",
   "execution_count": 4,
   "metadata": {},
   "outputs": [],
   "source": [
    "float_vec = np.vectorize(float)\n",
    "nan_feature = []\n",
    "nan_feature_dict = {}\n",
    "for icol in heart.columns:\n",
    "    L = np.sum(heart.loc[:,icol]=='?')\n",
    "    if (L==0):\n",
    "        heart.loc[:,icol] = float_vec(heart.loc[:,icol].values)\n",
    "    else:\n",
    "        nan_feature.append(icol)\n",
    "        nan_feature_dict[icol] = L\n",
    "        heart.loc[heart[icol]!='?',icol] = float_vec(heart.loc[heart[icol]!='?',icol].values)"
   ]
  },
  {
   "cell_type": "code",
   "execution_count": 5,
   "metadata": {},
   "outputs": [
    {
     "data": {
      "text/html": [
       "<div>\n",
       "<style scoped>\n",
       "    .dataframe tbody tr th:only-of-type {\n",
       "        vertical-align: middle;\n",
       "    }\n",
       "\n",
       "    .dataframe tbody tr th {\n",
       "        vertical-align: top;\n",
       "    }\n",
       "\n",
       "    .dataframe thead th {\n",
       "        text-align: right;\n",
       "    }\n",
       "</style>\n",
       "<table border=\"1\" class=\"dataframe\">\n",
       "  <thead>\n",
       "    <tr style=\"text-align: right;\">\n",
       "      <th></th>\n",
       "      <th>0</th>\n",
       "      <th>1</th>\n",
       "    </tr>\n",
       "  </thead>\n",
       "  <tbody>\n",
       "    <tr>\n",
       "      <th>0</th>\n",
       "      <td>ca</td>\n",
       "      <td>413</td>\n",
       "    </tr>\n",
       "    <tr>\n",
       "      <th>1</th>\n",
       "      <td>thal</td>\n",
       "      <td>320</td>\n",
       "    </tr>\n",
       "    <tr>\n",
       "      <th>2</th>\n",
       "      <td>slope</td>\n",
       "      <td>207</td>\n",
       "    </tr>\n",
       "    <tr>\n",
       "      <th>3</th>\n",
       "      <td>fbs</td>\n",
       "      <td>83</td>\n",
       "    </tr>\n",
       "    <tr>\n",
       "      <th>4</th>\n",
       "      <td>chol</td>\n",
       "      <td>23</td>\n",
       "    </tr>\n",
       "    <tr>\n",
       "      <th>5</th>\n",
       "      <td>oldpeak</td>\n",
       "      <td>6</td>\n",
       "    </tr>\n",
       "    <tr>\n",
       "      <th>6</th>\n",
       "      <td>trestbps</td>\n",
       "      <td>3</td>\n",
       "    </tr>\n",
       "    <tr>\n",
       "      <th>7</th>\n",
       "      <td>restecg</td>\n",
       "      <td>2</td>\n",
       "    </tr>\n",
       "    <tr>\n",
       "      <th>8</th>\n",
       "      <td>thalach</td>\n",
       "      <td>2</td>\n",
       "    </tr>\n",
       "    <tr>\n",
       "      <th>9</th>\n",
       "      <td>exang</td>\n",
       "      <td>2</td>\n",
       "    </tr>\n",
       "  </tbody>\n",
       "</table>\n",
       "</div>"
      ],
      "text/plain": [
       "          0    1\n",
       "0        ca  413\n",
       "1      thal  320\n",
       "2     slope  207\n",
       "3       fbs   83\n",
       "4      chol   23\n",
       "5   oldpeak    6\n",
       "6  trestbps    3\n",
       "7   restecg    2\n",
       "8   thalach    2\n",
       "9     exang    2"
      ]
     },
     "execution_count": 5,
     "metadata": {},
     "output_type": "execute_result"
    }
   ],
   "source": [
    "d = zip(list(nan_feature_dict.keys()), list(nan_feature_dict.values()))\n",
    "d = sorted(d, key = lambda x: x[1], reverse=True)\n",
    "pd.DataFrame(d)"
   ]
  },
  {
   "cell_type": "code",
   "execution_count": 6,
   "metadata": {},
   "outputs": [
    {
     "data": {
      "text/plain": [
       "422"
      ]
     },
     "execution_count": 6,
     "metadata": {},
     "output_type": "execute_result"
    }
   ],
   "source": [
    "counter = 0\n",
    "for irow in range(heart.shape[0]):\n",
    "    L = np.sum(heart.iloc[irow,:]=='?')\n",
    "    if (L!=0):\n",
    "        counter = counter+1\n",
    "counter"
   ]
  },
  {
   "cell_type": "code",
   "execution_count": 7,
   "metadata": {},
   "outputs": [
    {
     "data": {
      "text/plain": [
       "0.5861111111111111"
      ]
     },
     "execution_count": 7,
     "metadata": {},
     "output_type": "execute_result"
    }
   ],
   "source": [
    "422/720"
   ]
  },
  {
   "cell_type": "code",
   "execution_count": 8,
   "metadata": {},
   "outputs": [],
   "source": [
    "heart.to_csv('HeartData.csv')"
   ]
  },
  {
   "cell_type": "code",
   "execution_count": 9,
   "metadata": {},
   "outputs": [],
   "source": [
    "feature_mean   = {}\n",
    "feature_median = {}\n",
    "\n",
    "for icol in heart.columns:\n",
    "    \n",
    "    if icol not in nan_feature:\n",
    "        continue\n",
    "    L = heart.loc[heart[icol]!='?',icol].values \n",
    "    feature_mean[icol] = np.mean(L)\n",
    "    feature_median[icol] = np.median(L)\n",
    "    \n",
    "clean_index = []\n",
    "dirty_index = []\n",
    "\n",
    "for ind in list(heart.index):\n",
    "    if (np.sum(heart.loc[ind,:]=='?')==0):\n",
    "        clean_index.append(ind)\n",
    "    else:\n",
    "        dirty_index.append(ind)"
   ]
  },
  {
   "cell_type": "code",
   "execution_count": 10,
   "metadata": {},
   "outputs": [],
   "source": [
    "picked_cleanindex = random.sample(clean_index,int((1./3.)*len(clean_index)))\n",
    "picked_cleanindex = list(set(picked_cleanindex))"
   ]
  },
  {
   "cell_type": "code",
   "execution_count": 11,
   "metadata": {},
   "outputs": [],
   "source": [
    "clean_heart_mean   = heart.loc[picked_cleanindex,:].copy()\n",
    "clean_heart_median = heart.loc[picked_cleanindex,:].copy()"
   ]
  },
  {
   "cell_type": "code",
   "execution_count": 12,
   "metadata": {},
   "outputs": [],
   "source": [
    "clean_heart_mean.loc[:,nan_feature] = np.nan\n",
    "clean_heart_median.loc[:,nan_feature] = np.nan"
   ]
  },
  {
   "cell_type": "code",
   "execution_count": 13,
   "metadata": {},
   "outputs": [],
   "source": [
    "for ifeature in nan_feature:\n",
    "    clean_heart_mean.loc[:,ifeature]   = feature_mean[ifeature]\n",
    "    clean_heart_median.loc[:,ifeature] = feature_median[ifeature]"
   ]
  },
  {
   "cell_type": "code",
   "execution_count": 14,
   "metadata": {},
   "outputs": [],
   "source": [
    "def MSE(y_true,y_pred):\n",
    "    return (np.sum((y_true-y_pred)**2))/(y_true.shape[0]**2)"
   ]
  },
  {
   "cell_type": "code",
   "execution_count": 15,
   "metadata": {},
   "outputs": [],
   "source": [
    "MSE_mean   = {}\n",
    "MSE_median = {}\n",
    "\n",
    "for ifeature in nan_feature:\n",
    "    \n",
    "    true_val        = heart.loc[picked_cleanindex,ifeature].values\n",
    "    temp_mean_val   = clean_heart_mean.loc[:,ifeature].values\n",
    "    temp_median_val = clean_heart_median.loc[:,ifeature].values\n",
    "    \n",
    "    MSE_mean[ifeature]   = MSE(true_val,temp_mean_val)\n",
    "    MSE_median[ifeature] = MSE(true_val,temp_median_val)"
   ]
  },
  {
   "cell_type": "code",
   "execution_count": 16,
   "metadata": {},
   "outputs": [],
   "source": [
    "#np.sum(clean_heart_knn.loc[:,ifeature]=='?')"
   ]
  },
  {
   "cell_type": "code",
   "execution_count": 17,
   "metadata": {},
   "outputs": [],
   "source": [
    "#clean_heart_knn.shape"
   ]
  },
  {
   "cell_type": "code",
   "execution_count": 47,
   "metadata": {},
   "outputs": [],
   "source": [
    "clean_heart_knn    = heart.copy()\n",
    "\n",
    "for ifeature in nan_feature:\n",
    "    if (np.sum(clean_heart_knn.loc[:,ifeature]=='?')!=0):\n",
    "        bool_index = clean_heart_knn[ifeature]=='?'\n",
    "        clean_heart_knn.loc[bool_index,ifeature] = np.nan\n",
    "        \n",
    "knn = KNNImputer()\n",
    "knn.set_params(n_neighbors = 6)\n",
    "knn_result = knn.fit_transform(clean_heart_knn)\n",
    "knn_result_df = pd.DataFrame(data = knn_result, columns=heart.columns)"
   ]
  },
  {
   "cell_type": "code",
   "execution_count": 48,
   "metadata": {},
   "outputs": [],
   "source": [
    "clean_heart_knn2 = heart.loc[picked_cleanindex,:].copy()\n",
    "clean_heart_knn2.loc[:,nan_feature] = np.nan\n",
    "data = knn.transform(clean_heart_knn2)\n",
    "knn_result_df2 = pd.DataFrame(data = data, columns=heart.columns)"
   ]
  },
  {
   "cell_type": "code",
   "execution_count": 49,
   "metadata": {},
   "outputs": [],
   "source": [
    "#imp_df = pd.DataFrame().from_dict(MSE_mean,orient='index')\n",
    "#imp_df.columns = ['mean']\n",
    "#imp_df['median'] = MSE_median.values()"
   ]
  },
  {
   "cell_type": "code",
   "execution_count": 50,
   "metadata": {},
   "outputs": [],
   "source": [
    "MSE_knn = {}\n",
    "\n",
    "for ifeature in nan_feature:\n",
    "    \n",
    "    true_val        = heart.loc[picked_cleanindex,ifeature].values\n",
    "    temp_knn_val    = knn_result_df2.loc[:,ifeature].values\n",
    "    \n",
    "    MSE_knn[ifeature]   = MSE(true_val,temp_knn_val)"
   ]
  },
  {
   "cell_type": "code",
   "execution_count": 51,
   "metadata": {},
   "outputs": [
    {
     "data": {
      "text/html": [
       "<div>\n",
       "<style scoped>\n",
       "    .dataframe tbody tr th:only-of-type {\n",
       "        vertical-align: middle;\n",
       "    }\n",
       "\n",
       "    .dataframe tbody tr th {\n",
       "        vertical-align: top;\n",
       "    }\n",
       "\n",
       "    .dataframe thead th {\n",
       "        text-align: right;\n",
       "    }\n",
       "</style>\n",
       "<table border=\"1\" class=\"dataframe\">\n",
       "  <thead>\n",
       "    <tr style=\"text-align: right;\">\n",
       "      <th></th>\n",
       "      <th>mean</th>\n",
       "      <th>median</th>\n",
       "      <th>knn_1</th>\n",
       "      <th>knn_2</th>\n",
       "      <th>knn_3</th>\n",
       "      <th>knn_4</th>\n",
       "      <th>knn_5</th>\n",
       "      <th>knn_6</th>\n",
       "    </tr>\n",
       "  </thead>\n",
       "  <tbody>\n",
       "    <tr>\n",
       "      <th>trestbps</th>\n",
       "      <td>3.661705</td>\n",
       "      <td>3.748495</td>\n",
       "      <td>0.936333</td>\n",
       "      <td>1.670212</td>\n",
       "      <td>2.209355</td>\n",
       "      <td>2.716840</td>\n",
       "      <td>2.924730</td>\n",
       "      <td>3.053929</td>\n",
       "    </tr>\n",
       "    <tr>\n",
       "      <th>chol</th>\n",
       "      <td>42.902409</td>\n",
       "      <td>28.044077</td>\n",
       "      <td>22.481175</td>\n",
       "      <td>36.954392</td>\n",
       "      <td>41.691811</td>\n",
       "      <td>69.550237</td>\n",
       "      <td>81.649117</td>\n",
       "      <td>78.494091</td>\n",
       "    </tr>\n",
       "    <tr>\n",
       "      <th>fbs</th>\n",
       "      <td>0.001236</td>\n",
       "      <td>0.001428</td>\n",
       "      <td>0.000714</td>\n",
       "      <td>0.000791</td>\n",
       "      <td>0.000862</td>\n",
       "      <td>0.000912</td>\n",
       "      <td>0.000935</td>\n",
       "      <td>0.000938</td>\n",
       "    </tr>\n",
       "  </tbody>\n",
       "</table>\n",
       "</div>"
      ],
      "text/plain": [
       "               mean     median      knn_1      knn_2      knn_3      knn_4  \\\n",
       "trestbps   3.661705   3.748495   0.936333   1.670212   2.209355   2.716840   \n",
       "chol      42.902409  28.044077  22.481175  36.954392  41.691811  69.550237   \n",
       "fbs        0.001236   0.001428   0.000714   0.000791   0.000862   0.000912   \n",
       "\n",
       "              knn_5      knn_6  \n",
       "trestbps   2.924730   3.053929  \n",
       "chol      81.649117  78.494091  \n",
       "fbs        0.000935   0.000938  "
      ]
     },
     "execution_count": 51,
     "metadata": {},
     "output_type": "execute_result"
    }
   ],
   "source": [
    "imp_df['knn_6'] = MSE_knn.values()\n",
    "imp_df.head(3)"
   ]
  },
  {
   "cell_type": "code",
   "execution_count": 52,
   "metadata": {},
   "outputs": [],
   "source": [
    "imp_df.reset_index(inplace=True)"
   ]
  },
  {
   "cell_type": "code",
   "execution_count": 53,
   "metadata": {},
   "outputs": [],
   "source": [
    "imp_df.to_csv('imputationDF.csv')"
   ]
  },
  {
   "cell_type": "code",
   "execution_count": 56,
   "metadata": {},
   "outputs": [
    {
     "data": {
      "text/plain": [
       "(0.0, 80.0)"
      ]
     },
     "execution_count": 56,
     "metadata": {},
     "output_type": "execute_result"
    },
    {
     "data": {
      "image/png": "[encoded data removed]",
      "text/plain": [
       "<Figure size 1152x504 with 2 Axes>"
      ]
     },
     "metadata": {
      "needs_background": "light"
     },
     "output_type": "display_data"
    },
    {
     "data": {
      "image/png": "[encoded data removed]",
      "text/plain": [
       "<Figure size 1152x504 with 2 Axes>"
      ]
     },
     "metadata": {
      "needs_background": "light"
     },
     "output_type": "display_data"
    },
    {
     "data": {
      "image/png": "[encoded data removed]",
      "text/plain": [
       "<Figure size 1152x504 with 2 Axes>"
      ]
     },
     "metadata": {
      "needs_background": "light"
     },
     "output_type": "display_data"
    },
    {
     "data": {
      "image/png": "[encoded data removed]",
      "text/plain": [
       "<Figure size 1152x504 with 2 Axes>"
      ]
     },
     "metadata": {
      "needs_background": "light"
     },
     "output_type": "display_data"
    }
   ],
   "source": [
    "ig, axis = plt.subplots(1,2,figsize=(16,7))\n",
    "\n",
    "sns.barplot(data = imp_df, x = 'index', y = 'mean', color = 'red', ax = axis[0], label = 'Mean value Imputation')\n",
    "axis[0].set_xlabel('Feature', fontsize = 20)\n",
    "axis[0].set_ylabel('MSE', fontsize = 20)\n",
    "axis[0].set_xticklabels(axis[0].get_xticklabels(),fontsize=14, rotation = 90)\n",
    "axis[0].tick_params(axis='both',labelsize=16)\n",
    "axis[0].legend(fontsize = 16)\n",
    "axis[0].set_ylim([0,80])\n",
    "\n",
    "sns.barplot(data = imp_df, x = 'index', y = 'median', color = 'blue', ax = axis[1], label = 'Median value Imputation')\n",
    "axis[1].set_xlabel('Feature', fontsize = 20)\n",
    "axis[1].set_ylabel('MSE', fontsize = 20)\n",
    "axis[1].set_xticklabels(axis[1].get_xticklabels(),fontsize=14, rotation = 90)\n",
    "axis[1].tick_params(axis='both',labelsize=16)\n",
    "axis[1].legend(fontsize = 16);\n",
    "axis[1].set_ylim([0,80]);\n",
    "\n",
    "fig, axis = plt.subplots(1,2,figsize=(16,7))\n",
    "\n",
    "sns.barplot(data = imp_df, x = 'index', y = 'knn_1', color = 'red', ax = axis[0], label = 'KNN (Neighbors = 1)')\n",
    "axis[0].set_xlabel('Feature', fontsize = 20)\n",
    "axis[0].set_ylabel('MSE', fontsize = 20)\n",
    "axis[0].set_xticklabels(axis[0].get_xticklabels(),fontsize=14, rotation = 90)\n",
    "axis[0].tick_params(axis='both',labelsize=16)\n",
    "axis[0].legend(fontsize = 16)\n",
    "\n",
    "sns.barplot(data = imp_df, x = 'index', y = 'knn_2', color = 'blue', ax = axis[1], label = 'KNN (Neighbors = 2)')\n",
    "axis[1].set_xlabel('Feature', fontsize = 20)\n",
    "axis[1].set_ylabel('MSE', fontsize = 20)\n",
    "axis[1].set_xticklabels(axis[1].get_xticklabels(),fontsize=14, rotation = 90)\n",
    "axis[1].tick_params(axis='both',labelsize=16)\n",
    "axis[1].legend(fontsize = 16)\n",
    "\n",
    "axis[0].set_ylim([0,80])\n",
    "axis[1].set_ylim([0,80])\n",
    "\n",
    "fig, axis = plt.subplots(1,2,figsize=(16,7))\n",
    "\n",
    "sns.barplot(data = imp_df, x = 'index', y = 'knn_3', color = 'orange', ax = axis[0], label = 'KNN (Neighbors = 3)')\n",
    "axis[0].set_xlabel('Feature', fontsize = 20)\n",
    "axis[0].set_ylabel('MSE', fontsize = 20)\n",
    "axis[0].set_xticklabels(axis[0].get_xticklabels(),fontsize=14, rotation = 90)\n",
    "axis[0].tick_params(axis='both',labelsize=16)\n",
    "axis[0].legend(fontsize = 16);\n",
    "\n",
    "sns.barplot(data = imp_df, x = 'index', y = 'knn_4', color = 'red', ax = axis[1], label = 'KNN (Neighbors = 4)')\n",
    "axis[1].set_xlabel('Feature', fontsize = 20)\n",
    "axis[1].set_ylabel('MSE', fontsize = 20)\n",
    "axis[1].set_xticklabels(axis[1].get_xticklabels(),fontsize=14, rotation = 90)\n",
    "axis[1].tick_params(axis='both',labelsize=16)\n",
    "axis[1].legend(fontsize = 16)\n",
    "\n",
    "axis[0].set_ylim([0,80])\n",
    "axis[1].set_ylim([0,80])\n",
    "\n",
    "fig, axis = plt.subplots(1,2,figsize=(16,7))\n",
    "\n",
    "sns.barplot(data = imp_df, x = 'index', y = 'knn_5', color = 'blue', ax = axis[0], label = 'KNN (Neighbors = 5)')\n",
    "axis[0].set_xlabel('Feature', fontsize = 20)\n",
    "axis[0].set_ylabel('MSE', fontsize = 20)\n",
    "axis[0].set_xticklabels(axis[0].get_xticklabels(),fontsize=14, rotation = 90)\n",
    "axis[0].tick_params(axis='both',labelsize=16)\n",
    "axis[0].legend(fontsize = 16)\n",
    "\n",
    "sns.barplot(data = imp_df, x = 'index', y = 'knn_6', color = 'orange', ax = axis[1], label = 'KNN (Neighbors = 6)')\n",
    "axis[1].set_xlabel('Feature', fontsize = 20)\n",
    "axis[1].set_ylabel('MSE', fontsize = 20)\n",
    "axis[1].set_xticklabels(axis[1].get_xticklabels(),fontsize=14, rotation = 90)\n",
    "axis[1].tick_params(axis='both',labelsize=16)\n",
    "axis[1].legend(fontsize = 16);\n",
    "\n",
    "axis[0].set_ylim([0,80])\n",
    "axis[1].set_ylim([0,80])"
   ]
  },
  {
   "cell_type": "code",
   "execution_count": null,
   "metadata": {},
   "outputs": [],
   "source": [
    "fig, axis = plt.subplots(1,1,figsize=(12,8))\n",
    "sns.lineplot(data = imp_df, x = 'index', y = 'mean',   color = 'red',  marker = 'o', ax = axis, label = 'Mean Imputation' )\n",
    "sns.lineplot(data = imp_df, x = 'index', y = 'median', color = 'blue', marker = 'o', ax = axis, label = 'Median Imputation' )\n",
    "sns.lineplot(data = imp_df, x = 'index', y = 'knn_1', color = 'green', marker = 'o', ax = axis, label = 'KNN (Neighbors = 1)')\n",
    "sns.lineplot(data = imp_df, x = 'index', y = 'knn_2', color = 'cyan', marker = 'o', ax = axis, label = 'KNN (Neighbors = 2)')\n",
    "sns.lineplot(data = imp_df, x = 'index', y = 'knn_3', color = 'black', marker = 'o', ax = axis, label = 'KNN (Neighbors = 3)')\n",
    "sns.lineplot(data = imp_df, x = 'index', y = 'knn_4', color = 'purple', marker = 'o', ax = axis, label = 'KNN (Neighbors = 4)')\n",
    "sns.lineplot(data = imp_df, x = 'index', y = 'knn_5', color = 'orange', marker = 'o', ax = axis, label = 'KNN (Neighbors = 5)')\n",
    "sns.lineplot(data = imp_df, x = 'index', y = 'knn_6', color = 'brown', marker = 'o', ax = axis, label = 'KNN (Neighbors = 6)')\n",
    "\n",
    "axis.set_xlabel('Feature', fontsize = 20)\n",
    "axis.set_ylabel('MSE', fontsize = 20)\n",
    "axis.tick_params(axis='x',labelsize=14, labelrotation = 90)\n",
    "axis.tick_params(axis='y',labelsize=14)\n",
    "axis.legend(fontsize=12)\n",
    "axis.grid(axis = 'x');"
   ]
  },
  {
   "cell_type": "markdown",
   "metadata": {},
   "source": [
    "JUST DO A PRIMILINARY RANDOM FOREST AND LOGISTIC REGRESSION TO FIND IMPORTANT FEATURES"
   ]
  },
  {
   "cell_type": "code",
   "execution_count": null,
   "metadata": {},
   "outputs": [],
   "source": [
    "from sklearn.linear_model import LogisticRegression\n",
    "from sklearn.ensemble import RandomForestClassifier"
   ]
  },
  {
   "cell_type": "code",
   "execution_count": null,
   "metadata": {},
   "outputs": [],
   "source": [
    "glm = LogisticRegression()\n",
    "rfc = RandomForestClassifier()"
   ]
  },
  {
   "cell_type": "code",
   "execution_count": null,
   "metadata": {},
   "outputs": [],
   "source": [
    "glm.get_params()"
   ]
  },
  {
   "cell_type": "code",
   "execution_count": null,
   "metadata": {},
   "outputs": [],
   "source": [
    "#?glm"
   ]
  },
  {
   "cell_type": "code",
   "execution_count": null,
   "metadata": {},
   "outputs": [],
   "source": [
    "#?rfc"
   ]
  },
  {
   "cell_type": "code",
   "execution_count": null,
   "metadata": {},
   "outputs": [],
   "source": [
    "glm.set_params(solver = 'sag')"
   ]
  },
  {
   "cell_type": "code",
   "execution_count": null,
   "metadata": {},
   "outputs": [],
   "source": [
    "from sklearn.model_selection import train_test_split"
   ]
  },
  {
   "cell_type": "code",
   "execution_count": null,
   "metadata": {},
   "outputs": [],
   "source": [
    "X = heart.loc[clean_index,:].drop(['num'],axis=1).copy()\n",
    "Y = heart.loc[clean_index,'num']"
   ]
  },
  {
   "cell_type": "code",
   "execution_count": null,
   "metadata": {},
   "outputs": [],
   "source": [
    "X_train, X_test, Y_train, Y_test = train_test_split(X,Y, test_size=0.33, random_state=144, shuffle=True, stratify=Y) "
   ]
  },
  {
   "cell_type": "code",
   "execution_count": null,
   "metadata": {},
   "outputs": [],
   "source": [
    "#fitting loggistic regression\n",
    "glm.set_params(max_iter  = 1e5, C = 0.001)\n",
    "glm.fit(X_train,Y_train)\n",
    "r2_train = np.round(glm.score(X_train,Y_train),3)\n",
    "r2_test  = np.round(glm.score(X_test,Y_test),3)\n",
    "print('Trian score is :' + str(r2_train))\n",
    "print('Test  score is :' + str(r2_test))"
   ]
  },
  {
   "cell_type": "code",
   "execution_count": null,
   "metadata": {},
   "outputs": [],
   "source": [
    "rfc.set_params(max_depth = 4)\n",
    "rfc.fit(X_train,Y_train)\n",
    "r2_train = np.round(rfc.score(X_train,Y_train),3)\n",
    "r2_test  = np.round(rfc.score(X_test,Y_test),3)\n",
    "print('Trian score is :' + str(r2_train))\n",
    "print('Test  score is :' + str(r2_test))"
   ]
  },
  {
   "cell_type": "code",
   "execution_count": null,
   "metadata": {},
   "outputs": [],
   "source": [
    "from sklearn.feature_selection import SelectKBest"
   ]
  },
  {
   "cell_type": "code",
   "execution_count": null,
   "metadata": {},
   "outputs": [],
   "source": [
    "data = sorted(zip(X.columns,rfc.feature_importances_),key = lambda x : x[1],reverse=True)\n",
    "df = pd.DataFrame(data = data)\n",
    "df.columns = ['feature','importance']"
   ]
  },
  {
   "cell_type": "code",
   "execution_count": null,
   "metadata": {},
   "outputs": [],
   "source": [
    "fig, axis = plt.subplots(1,1,figsize=(12,8))\n",
    "sns.barplot(data = df, x='feature', y = 'importance', color = 'red', ax = axis)\n",
    "axis.set_xlabel('Feature', fontsize = 16)\n",
    "axis.set_ylabel('Feature Importance (Random Forest)', fontsize = 16)\n",
    "axis.set_xticklabels(axis.get_xticklabels(),rotation = 90, fontsize = 14)\n",
    "plt.yticks(fontsize=14);"
   ]
  },
  {
   "cell_type": "code",
   "execution_count": null,
   "metadata": {},
   "outputs": [],
   "source": [
    "from sklearn.preprocessing import StandardScaler"
   ]
  },
  {
   "cell_type": "code",
   "execution_count": null,
   "metadata": {},
   "outputs": [],
   "source": [
    "SC = StandardScaler()"
   ]
  },
  {
   "cell_type": "code",
   "execution_count": null,
   "metadata": {},
   "outputs": [],
   "source": [
    "X_SC = SC.fit_transform(X)"
   ]
  },
  {
   "cell_type": "code",
   "execution_count": null,
   "metadata": {},
   "outputs": [],
   "source": [
    "XSC_train, XSC_test, Y_train, Y_test = train_test_split(X_SC,Y, test_size=0.33, random_state=144, shuffle=True, stratify=Y) "
   ]
  },
  {
   "cell_type": "code",
   "execution_count": null,
   "metadata": {},
   "outputs": [],
   "source": []
  }
 ],
 "metadata": {
  "kernelspec": {
   "display_name": "Python 3 (ipykernel)",
   "language": "python",
   "name": "python3"
  },
  "language_info": {
   "codemirror_mode": {
    "name": "ipython",
    "version": 3
   },
   "file_extension": ".py",
   "mimetype": "text/x-python",
   "name": "python",
   "nbconvert_exporter": "python",
   "pygments_lexer": "ipython3",
   "version": "3.9.12"
  }
 },
 "nbformat": 4,
 "nbformat_minor": 4
}
