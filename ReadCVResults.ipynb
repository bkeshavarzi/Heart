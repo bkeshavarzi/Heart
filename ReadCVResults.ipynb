{
 "cells": [
  {
   "cell_type": "markdown",
   "id": "836fe983",
   "metadata": {},
   "source": [
    "Default parameter works for Xgboost"
   ]
  },
  {
   "cell_type": "markdown",
   "id": "a7c6cfb4",
   "metadata": {},
   "source": [
    "Default parameter works for support vector classification"
   ]
  },
  {
   "cell_type": "markdown",
   "id": "79f868d9",
   "metadata": {},
   "source": [
    "Default parameter works for gradient boosting"
   ]
  },
  {
   "cell_type": "markdown",
   "id": "8023f2e2",
   "metadata": {},
   "source": [
    "Default parametr works for discriminate analysis"
   ]
  },
  {
   "cell_type": "markdown",
   "id": "cfe7a93e",
   "metadata": {},
   "source": [
    "Default parameter works for logistic regression"
   ]
  },
  {
   "cell_type": "markdown",
   "id": "a5fa319d",
   "metadata": {},
   "source": [
    "Default parameter works for decision tree"
   ]
  },
  {
   "cell_type": "code",
   "execution_count": null,
   "id": "5e6072fa",
   "metadata": {},
   "outputs": [],
   "source": []
  }
 ],
 "metadata": {
  "kernelspec": {
   "display_name": "Python 3 (ipykernel)",
   "language": "python",
   "name": "python3"
  },
  "language_info": {
   "codemirror_mode": {
    "name": "ipython",
    "version": 3
   },
   "file_extension": ".py",
   "mimetype": "text/x-python",
   "name": "python",
   "nbconvert_exporter": "python",
   "pygments_lexer": "ipython3",
   "version": "3.9.12"
  }
 },
 "nbformat": 4,
 "nbformat_minor": 5
}
