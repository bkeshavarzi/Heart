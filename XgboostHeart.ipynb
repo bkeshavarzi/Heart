{
 "cells": [
  {
   "cell_type": "code",
   "execution_count": 1,
   "id": "239b952a",
   "metadata": {},
   "outputs": [],
   "source": [
    "import numpy as np\n",
    "import pandas as pd\n",
    "import matplotlib.pyplot as plt\n",
    "import seaborn as sns \n",
    "import time\n",
    "import sklearn\n",
    "import scipy"
   ]
  },
  {
   "cell_type": "code",
   "execution_count": 2,
   "id": "b412fcec",
   "metadata": {},
   "outputs": [],
   "source": [
    "from sklearn import metrics, model_selection, preprocessing, ensemble, tree\n",
    "from sklearn.model_selection import train_test_split\n",
    "from sklearn.preprocessing import StandardScaler\n",
    "from sklearn.model_selection import GridSearchCV, cross_val_score \n",
    "from sklearn.metrics import confusion_matrix"
   ]
  },
  {
   "cell_type": "code",
   "execution_count": 3,
   "id": "465b63bd",
   "metadata": {},
   "outputs": [],
   "source": [
    "from xgboost import XGBClassifier\n",
    "xgb_cl = XGBClassifier()"
   ]
  },
  {
   "cell_type": "code",
   "execution_count": 4,
   "id": "945b3bf1",
   "metadata": {},
   "outputs": [
    {
     "data": {
      "text/plain": [
       "XGBClassifier(base_score=None, booster=None, callbacks=None,\n",
       "              colsample_bylevel=None, colsample_bynode=None,\n",
       "              colsample_bytree=None, early_stopping_rounds=None,\n",
       "              enable_categorical=False, eval_metric=None, gamma=None,\n",
       "              gpu_id=None, grow_policy=None, importance_type=None,\n",
       "              interaction_constraints=None, learning_rate=None, max_bin=None,\n",
       "              max_cat_to_onehot=None, max_delta_step=None, max_depth=None,\n",
       "              max_leaves=None, min_child_weight=None, missing=nan,\n",
       "              monotone_constraints=None, n_estimators=100, n_jobs=None,\n",
       "              num_parallel_tree=None, predictor=None, random_state=None,\n",
       "              reg_alpha=None, reg_lambda=None, ...)"
      ]
     },
     "execution_count": 4,
     "metadata": {},
     "output_type": "execute_result"
    }
   ],
   "source": [
    "xgb_cl"
   ]
  },
  {
   "cell_type": "code",
   "execution_count": 5,
   "id": "875cd56f",
   "metadata": {},
   "outputs": [],
   "source": [
    "heart = pd.read_csv('FinalHeart.csv')\n",
    "heart.drop(['Unnamed: 0'],axis=1,inplace=True)"
   ]
  },
  {
   "cell_type": "code",
   "execution_count": 6,
   "id": "1e5ae599",
   "metadata": {},
   "outputs": [],
   "source": [
    "X = heart.drop(['num'],axis=1).copy()\n",
    "Y = heart.num.copy()"
   ]
  },
  {
   "cell_type": "code",
   "execution_count": 7,
   "id": "be5f0170",
   "metadata": {},
   "outputs": [],
   "source": [
    "X_train, X_test, Y_train, Y_test = train_test_split(X,Y, test_size= 0.33, stratify=Y)"
   ]
  },
  {
   "cell_type": "code",
   "execution_count": 8,
   "id": "0021dda2",
   "metadata": {},
   "outputs": [],
   "source": [
    "from sklearn.preprocessing import StandardScaler"
   ]
  },
  {
   "cell_type": "code",
   "execution_count": 9,
   "id": "92c50c3a",
   "metadata": {},
   "outputs": [],
   "source": [
    "SC = StandardScaler()\n",
    "X_scaled = SC.fit_transform(X)"
   ]
  },
  {
   "cell_type": "code",
   "execution_count": 10,
   "id": "3d7ae63f",
   "metadata": {},
   "outputs": [],
   "source": [
    "XS_train, XS_test, Y_train, Y_test = train_test_split(X_scaled,Y, test_size= 0.33, stratify=Y)"
   ]
  },
  {
   "cell_type": "code",
   "execution_count": 11,
   "id": "8f8d1939",
   "metadata": {},
   "outputs": [
    {
     "name": "stdout",
     "output_type": "stream",
     "text": [
      "Training score is :1.0\n",
      "Testing  score is :0.391\n"
     ]
    }
   ],
   "source": [
    "xgb_cl = XGBClassifier()\n",
    "xgb_cl.set_params(random_state=144)\n",
    "xgb_cl.fit(X_train,Y_train)\n",
    "\n",
    "R2_train = np.round(xgb_cl.score(X_train,Y_train),3)\n",
    "R2_test  = np.round(xgb_cl.score(X_test,Y_test),3)\n",
    "\n",
    "print('Training score is :'+ str(R2_train))\n",
    "print('Testing  score is :'+ str(R2_test))\n",
    "\n",
    "#r2_train = cross_val_score(xgb_cl,X_train, Y_train, cv = 3)\n",
    "#r2_test  = cross_val_score(xgb_cl,X_test, Y_test, cv = 3)\n",
    "#print(np.mean(r2_train))\n",
    "#print(np.mean(r2_test))"
   ]
  },
  {
   "cell_type": "code",
   "execution_count": 34,
   "id": "da71fca6",
   "metadata": {},
   "outputs": [
    {
     "name": "stdout",
     "output_type": "stream",
     "text": [
      "Training score is :0.539\n",
      "Testing  score is :0.5\n"
     ]
    }
   ],
   "source": [
    "#gamma = [10.0**i for i in range(-5,5,1)]\n",
    "#max_depth = [10*i for i in np.arange(1,10)]\n",
    "#max_delta_step = [1,2,3,4,5,6,7,8,9,10]\n",
    "\n",
    "xgb_cl = XGBClassifier(gamma = 4, max_depth = 10)\n",
    "xgb_cl.set_params(random_state=144)\n",
    "xgb_cl.fit(X_train,Y_train)\n",
    "\n",
    "R2_train = np.round(xgb_cl.score(X_train,Y_train),3)\n",
    "R2_test  = np.round(xgb_cl.score(X_test,Y_test),3)\n",
    "\n",
    "print('Training score is :'+ str(R2_train))\n",
    "print('Testing  score is :'+ str(R2_test))"
   ]
  },
  {
   "cell_type": "code",
   "execution_count": 35,
   "id": "f0044e37",
   "metadata": {},
   "outputs": [],
   "source": [
    "Y_0 = Y_train==0\n",
    "Y_1 = Y_train==1\n",
    "Y_2 = Y_train==2\n",
    "Y_3 = Y_train==3\n",
    "Y_4 = Y_train==4"
   ]
  },
  {
   "cell_type": "code",
   "execution_count": 36,
   "id": "6ac7d19a",
   "metadata": {},
   "outputs": [],
   "source": [
    "prob_train = xgb_cl.predict_proba(X_train)\n",
    "prob_test  = xgb_cl.predict_proba(X_test)"
   ]
  },
  {
   "cell_type": "code",
   "execution_count": 37,
   "id": "18afaac5",
   "metadata": {},
   "outputs": [],
   "source": [
    "from sklearn.metrics import confusion_matrix"
   ]
  },
  {
   "cell_type": "code",
   "execution_count": 38,
   "id": "21e54528",
   "metadata": {},
   "outputs": [],
   "source": [
    "conf_data_train = confusion_matrix(Y_train,xgb_cl.predict(X_train))\n",
    "conf_data_test  = confusion_matrix(Y_test,xgb_cl.predict(X_test))"
   ]
  },
  {
   "cell_type": "code",
   "execution_count": 39,
   "id": "784c51cf",
   "metadata": {},
   "outputs": [
    {
     "data": {
      "image/png": "[encoded data removed]",
      "text/plain": [
       "<Figure size 1296x432 with 4 Axes>"
      ]
     },
     "metadata": {
      "needs_background": "light"
     },
     "output_type": "display_data"
    }
   ],
   "source": [
    "fig, ax = plt.subplots(1,2,figsize= (18,6))\n",
    "sns.heatmap(conf_data_train, ax = ax[0], annot=True)\n",
    "sns.heatmap(conf_data_test,  ax = ax[1], annot=True)\n",
    "\n",
    "ax[0].tick_params(axis='both',labelsize=16)\n",
    "ax[0].set_xlabel('Measured', fontsize= 18)\n",
    "ax[0].set_ylabel('Predicted', fontsize= 18)\n",
    "ax[0].set_title('Train Set',fontsize= 22)\n",
    "\n",
    "ax[1].tick_params(axis='both',labelsize=16)\n",
    "ax[1].set_xlabel('Measured', fontsize= 18)\n",
    "ax[1].set_ylabel('Predicted', fontsize= 18)\n",
    "ax[1].set_title('Test Set',fontsize= 22);"
   ]
  },
  {
   "cell_type": "code",
   "execution_count": 40,
   "id": "90b89577",
   "metadata": {},
   "outputs": [
    {
     "name": "stdout",
     "output_type": "stream",
     "text": [
      "****************************************************************************************************\n"
     ]
    }
   ],
   "source": [
    "conf_train_norm = np.zeros_like(conf_data_train, dtype=float)\n",
    "conf_test_norm = np.zeros_like(conf_data_test, dtype=float)\n",
    "\n",
    "sum_vec_train = np.sum(conf_data_train, axis = 1)\n",
    "sum_vec_test  = np.sum(conf_data_test , axis = 1)\n",
    "\n",
    "print('*'*100)\n",
    "\n",
    "for irow in range(conf_train_norm.shape[0]):\n",
    "    \n",
    "    conf_train_norm[irow,:] = 100 * np.round(conf_data_train[irow,:]/sum_vec_train[irow],2)\n",
    "    conf_test_norm[irow,:]  = 100 * np.round(conf_data_test[irow,:]/sum_vec_test[irow],2)"
   ]
  },
  {
   "cell_type": "code",
   "execution_count": 41,
   "id": "548cab9f",
   "metadata": {},
   "outputs": [
    {
     "data": {
      "image/png": "[encoded data removed]",
      "text/plain": [
       "<Figure size 1296x432 with 4 Axes>"
      ]
     },
     "metadata": {
      "needs_background": "light"
     },
     "output_type": "display_data"
    }
   ],
   "source": [
    "fig, ax = plt.subplots(1,2,figsize= (18,6))\n",
    "sns.heatmap(conf_train_norm, ax = ax[0], annot=True)\n",
    "sns.heatmap(conf_test_norm,  ax = ax[1], annot=True)\n",
    "\n",
    "ax[0].tick_params(axis='both',labelsize=16)\n",
    "ax[0].set_xlabel('Measured', fontsize= 18)\n",
    "ax[0].set_ylabel('Predicted', fontsize= 18)\n",
    "ax[0].set_title('Train Set',fontsize= 22)\n",
    "\n",
    "ax[1].tick_params(axis='both',labelsize=16)\n",
    "ax[1].set_xlabel('Measured', fontsize= 18)\n",
    "ax[1].set_ylabel('Predicted', fontsize= 18)\n",
    "ax[1].set_title('Test Set',fontsize= 22);"
   ]
  },
  {
   "cell_type": "code",
   "execution_count": null,
   "id": "8c4064bf",
   "metadata": {},
   "outputs": [],
   "source": []
  }
 ],
 "metadata": {
  "kernelspec": {
   "display_name": "Python 3 (ipykernel)",
   "language": "python",
   "name": "python3"
  },
  "language_info": {
   "codemirror_mode": {
    "name": "ipython",
    "version": 3
   },
   "file_extension": ".py",
   "mimetype": "text/x-python",
   "name": "python",
   "nbconvert_exporter": "python",
   "pygments_lexer": "ipython3",
   "version": "3.9.12"
  }
 },
 "nbformat": 4,
 "nbformat_minor": 5
}
