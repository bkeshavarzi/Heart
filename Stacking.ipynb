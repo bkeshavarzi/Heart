{
 "cells": [
  {
   "cell_type": "code",
   "execution_count": 16,
   "id": "d6af71b8",
   "metadata": {},
   "outputs": [],
   "source": [
    "import numpy as np\n",
    "import pandas as pd\n",
    "import matplotlib.pyplot as plt\n",
    "import seaborn as sns \n",
    "import time\n",
    "import sklearn\n",
    "import scipy"
   ]
  },
  {
   "cell_type": "code",
   "execution_count": 17,
   "id": "ca0c289b",
   "metadata": {},
   "outputs": [],
   "source": [
    "from sklearn.linear_model import LogisticRegression\n",
    "from sklearn.tree import DecisionTreeClassifier\n",
    "from sklearn.ensemble import RandomForestClassifier\n",
    "import xgboost as xgb\n",
    "from sklearn.svm import SVC\n",
    "from sklearn.ensemble import GradientBoostingClassifier\n",
    "from sklearn.ensemble import StackingClassifier\n",
    "from sklearn.discriminant_analysis import LinearDiscriminantAnalysis, QuadraticDiscriminantAnalysis\n",
    "from sklearn.naive_bayes import GaussianNB\n",
    "\n",
    "from sklearn.model_selection import train_test_split\n",
    "from sklearn.model_selection import GridSearchCV"
   ]
  },
  {
   "cell_type": "code",
   "execution_count": 18,
   "id": "ac1a3842",
   "metadata": {},
   "outputs": [],
   "source": [
    "from Model import modelFit, plot_confusion"
   ]
  },
  {
   "cell_type": "code",
   "execution_count": 19,
   "id": "49696ee8",
   "metadata": {},
   "outputs": [],
   "source": [
    "glm = LogisticRegression(max_iter = 1e4)\n",
    "dtc = DecisionTreeClassifier()\n",
    "rfc = RandomForestClassifier()\n",
    "xgbc = xgb.XGBClassifier()\n",
    "svc = SVC()\n",
    "gbc = GradientBoostingClassifier()\n",
    "LDA = LinearDiscriminantAnalysis()\n",
    "QDA = QuadraticDiscriminantAnalysis()\n",
    "GNB = GaussianNB()"
   ]
  },
  {
   "cell_type": "code",
   "execution_count": 20,
   "id": "76ddc624",
   "metadata": {},
   "outputs": [],
   "source": [
    "heart = pd.read_csv('FinalHeart.csv')\n",
    "heart.drop(['Unnamed: 0'],axis=1,inplace=True)"
   ]
  },
  {
   "cell_type": "code",
   "execution_count": 21,
   "id": "617bf6ea",
   "metadata": {},
   "outputs": [],
   "source": [
    "X = heart.drop(['num'],axis=1).copy()\n",
    "Y = heart.num.copy()"
   ]
  },
  {
   "cell_type": "code",
   "execution_count": 22,
   "id": "30776bc2",
   "metadata": {},
   "outputs": [],
   "source": [
    "X_train, X_test, Y_train, Y_test = train_test_split(X,Y, test_size= 0.33, stratify=Y)"
   ]
  },
  {
   "cell_type": "code",
   "execution_count": 23,
   "id": "1d3ec026",
   "metadata": {},
   "outputs": [
    {
     "name": "stdout",
     "output_type": "stream",
     "text": [
      "<class 'sklearn.linear_model._logistic.LogisticRegression'>\n",
      "Train score is :0.678\n",
      "Test score is :0.622\n",
      "<class 'sklearn.tree._classes.DecisionTreeClassifier'>\n",
      "Train score is :1.0\n",
      "Test score is :0.571\n",
      "<class 'sklearn.ensemble._forest.RandomForestClassifier'>\n",
      "Train score is :1.0\n",
      "Test score is :0.664\n",
      "<class 'xgboost.sklearn.XGBClassifier'>\n",
      "Train score is :1.0\n",
      "Test score is :0.63\n",
      "<class 'sklearn.svm._classes.SVC'>\n",
      "Train score is :0.562\n",
      "Test score is :0.555\n",
      "<class 'sklearn.ensemble._gb.GradientBoostingClassifier'>\n",
      "Train score is :0.985\n",
      "Test score is :0.613\n",
      "<class 'sklearn.discriminant_analysis.LinearDiscriminantAnalysis'>\n",
      "Train score is :0.645\n",
      "Test score is :0.613\n",
      "<class 'sklearn.discriminant_analysis.QuadraticDiscriminantAnalysis'>\n",
      "Train score is :0.714\n",
      "Test score is :0.634\n",
      "<class 'sklearn.naive_bayes.GaussianNB'>\n",
      "Train score is :0.55\n",
      "Test score is :0.504\n"
     ]
    },
    {
     "name": "stderr",
     "output_type": "stream",
     "text": [
      "C:\\ProgramData\\Anaconda3\\lib\\site-packages\\sklearn\\discriminant_analysis.py:878: UserWarning: Variables are collinear\n",
      "  warnings.warn(\"Variables are collinear\")\n"
     ]
    }
   ],
   "source": [
    "modelFit(glm,X_train, Y_train, X_test, Y_test)\n",
    "modelFit(dtc,X_train, Y_train, X_test, Y_test)\n",
    "modelFit(rfc,X_train, Y_train, X_test, Y_test)\n",
    "modelFit(xgbc,X_train, Y_train, X_test, Y_test)\n",
    "modelFit(svc,X_train, Y_train, X_test, Y_test)\n",
    "modelFit(gbc,X_train, Y_train, X_test, Y_test)\n",
    "modelFit(LDA,X_train, Y_train, X_test, Y_test)\n",
    "modelFit(QDA,X_train, Y_train, X_test, Y_test)\n",
    "modelFit(GNB,X_train, Y_train, X_test, Y_test)"
   ]
  },
  {
   "cell_type": "code",
   "execution_count": null,
   "id": "40cc17ba",
   "metadata": {},
   "outputs": [],
   "source": []
  }
 ],
 "metadata": {
  "kernelspec": {
   "display_name": "Python 3 (ipykernel)",
   "language": "python",
   "name": "python3"
  },
  "language_info": {
   "codemirror_mode": {
    "name": "ipython",
    "version": 3
   },
   "file_extension": ".py",
   "mimetype": "text/x-python",
   "name": "python",
   "nbconvert_exporter": "python",
   "pygments_lexer": "ipython3",
   "version": "3.9.12"
  }
 },
 "nbformat": 4,
 "nbformat_minor": 5
}
