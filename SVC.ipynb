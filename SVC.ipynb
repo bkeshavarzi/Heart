{
 "cells": [
  {
   "cell_type": "code",
   "execution_count": 1,
   "id": "aa4182e6",
   "metadata": {},
   "outputs": [],
   "source": [
    "import numpy as np\n",
    "import pandas as pd\n",
    "import matplotlib.pyplot as plt\n",
    "import seaborn as sns \n",
    "import time\n",
    "import sklearn\n",
    "import scipy"
   ]
  },
  {
   "cell_type": "code",
   "execution_count": 2,
   "id": "025aff8a",
   "metadata": {},
   "outputs": [],
   "source": [
    "from sklearn import svm\n",
    "from sklearn.model_selection import train_test_split\n",
    "from sklearn.model_selection import GridSearchCV\n",
    "from sklearn.metrics import confusion_matrix\n",
    "from PlottingFunction import lda_1Dplot, plotModel, data_1Dplot"
   ]
  },
  {
   "cell_type": "code",
   "execution_count": 3,
   "id": "c0ed0824",
   "metadata": {},
   "outputs": [],
   "source": [
    "heart = pd.read_csv('FinalHeart.csv')\n",
    "heart.drop(['Unnamed: 0'],axis=1,inplace=True)"
   ]
  },
  {
   "cell_type": "code",
   "execution_count": 4,
   "id": "e9275120",
   "metadata": {},
   "outputs": [
    {
     "data": {
      "text/plain": [
       "{'C': 1.0,\n",
       " 'break_ties': False,\n",
       " 'cache_size': 200,\n",
       " 'class_weight': None,\n",
       " 'coef0': 0.0,\n",
       " 'decision_function_shape': 'ovr',\n",
       " 'degree': 3,\n",
       " 'gamma': 'scale',\n",
       " 'kernel': 'rbf',\n",
       " 'max_iter': -1,\n",
       " 'probability': False,\n",
       " 'random_state': None,\n",
       " 'shrinking': True,\n",
       " 'tol': 0.001,\n",
       " 'verbose': False}"
      ]
     },
     "execution_count": 4,
     "metadata": {},
     "output_type": "execute_result"
    }
   ],
   "source": [
    "svc = svm.SVC()\n",
    "svc.get_params()"
   ]
  },
  {
   "cell_type": "code",
   "execution_count": 5,
   "id": "ebebf2a9",
   "metadata": {},
   "outputs": [],
   "source": [
    "X = heart.drop(['num'],axis=1).copy()\n",
    "Y = heart.num.copy()"
   ]
  },
  {
   "cell_type": "code",
   "execution_count": 6,
   "id": "a62239ee",
   "metadata": {},
   "outputs": [],
   "source": [
    "X_train, X_test, Y_train, Y_test = train_test_split(X,Y, test_size= 0.33, stratify=Y)"
   ]
  },
  {
   "cell_type": "code",
   "execution_count": 7,
   "id": "67d57cdb",
   "metadata": {},
   "outputs": [
    {
     "name": "stdout",
     "output_type": "stream",
     "text": [
      "Train score is :0.566\n",
      "Test score is :0.538\n"
     ]
    }
   ],
   "source": [
    "svc.fit(X_train,Y_train)\n",
    "r2_train = np.round(svc.score(X_train, Y_train),3)\n",
    "r2_test  = np.round(svc.score(X_test, Y_test),3)\n",
    "print('Train score is :' + str(r2_train))\n",
    "print('Test score is :' + str(r2_test))"
   ]
  },
  {
   "cell_type": "code",
   "execution_count": 8,
   "id": "74cff47b",
   "metadata": {},
   "outputs": [],
   "source": [
    "C = [10.0**i for i in np.arange(-5,5,0.5)]\n",
    "kernel = ['poly', 'rbf']\n",
    "#gamma.extend([1,2,3,4,5,6,7,8,9,10])\n",
    "random_state = 144"
   ]
  },
  {
   "cell_type": "code",
   "execution_count": 9,
   "id": "b4f0792e",
   "metadata": {},
   "outputs": [],
   "source": [
    "from sklearn.preprocessing import StandardScaler"
   ]
  },
  {
   "cell_type": "code",
   "execution_count": 10,
   "id": "d192f46b",
   "metadata": {},
   "outputs": [],
   "source": [
    "scaler = StandardScaler()"
   ]
  },
  {
   "cell_type": "code",
   "execution_count": 11,
   "id": "7398b593",
   "metadata": {},
   "outputs": [],
   "source": [
    "X_train_scaled = scaler.fit_transform(X_train)\n",
    "X_test_scaled  = scaler.fit_transform(X_test)"
   ]
  },
  {
   "cell_type": "code",
   "execution_count": 12,
   "id": "611333ef",
   "metadata": {},
   "outputs": [
    {
     "name": "stdout",
     "output_type": "stream",
     "text": [
      "CPU times: total: 5.05 s\n",
      "Wall time: 5.05 s\n"
     ]
    },
    {
     "data": {
      "text/plain": [
       "GridSearchCV(cv=3,\n",
       "             estimator=SVC(max_iter=100000.0, probability=True,\n",
       "                           random_state=144),\n",
       "             param_grid={'C': [1e-05, 3.1622776601683795e-05, 0.0001,\n",
       "                               0.00031622776601683794, 0.001,\n",
       "                               0.0031622776601683794, 0.01, 0.03162277660168379,\n",
       "                               0.1, 0.31622776601683794, 1.0,\n",
       "                               3.1622776601683795, 10.0, 31.622776601683793,\n",
       "                               100.0, 316.22776601683796, 1000.0,\n",
       "                               3162.2776601683795, 10000.0,\n",
       "                               31622.776601683792],\n",
       "                         'kernel': ['poly', 'rbf']},\n",
       "             return_train_score=True)"
      ]
     },
     "execution_count": 12,
     "metadata": {},
     "output_type": "execute_result"
    }
   ],
   "source": [
    "svc_grid = svm.SVC(probability=True)\n",
    "svc_grid.set_params(max_iter = 1e5, random_state = 144)\n",
    "param_grid = {'C':C, 'kernel':kernel}\n",
    "svc_grid = GridSearchCV(svc_grid, param_grid, cv = 3, return_train_score=True)\n",
    "%time svc_grid.fit(X_train_scaled, Y_train)"
   ]
  },
  {
   "cell_type": "code",
   "execution_count": 13,
   "id": "5697712f",
   "metadata": {},
   "outputs": [
    {
     "data": {
      "text/plain": [
       "(40, 18)"
      ]
     },
     "execution_count": 13,
     "metadata": {},
     "output_type": "execute_result"
    }
   ],
   "source": [
    "svc_df = pd.DataFrame(svc_grid.cv_results_)\n",
    "svc_df.shape"
   ]
  },
  {
   "cell_type": "code",
   "execution_count": 14,
   "id": "0d4e41c6",
   "metadata": {},
   "outputs": [
    {
     "data": {
      "text/plain": [
       "(40, 18)"
      ]
     },
     "execution_count": 14,
     "metadata": {},
     "output_type": "execute_result"
    }
   ],
   "source": [
    "svc_df.dropna(axis=0,how='any',inplace=True)\n",
    "svc_df.shape"
   ]
  },
  {
   "cell_type": "code",
   "execution_count": 15,
   "id": "098b7e92",
   "metadata": {},
   "outputs": [],
   "source": [
    "svc_final_df = svc_df.loc[:,['param_C','param_kernel','mean_train_score','mean_test_score']]"
   ]
  },
  {
   "cell_type": "code",
   "execution_count": 16,
   "id": "c8e2764f",
   "metadata": {},
   "outputs": [],
   "source": [
    "svc_final_df.to_csv('SVRCV.csv')"
   ]
  },
  {
   "cell_type": "code",
   "execution_count": 17,
   "id": "758a9e0e",
   "metadata": {},
   "outputs": [
    {
     "data": {
      "text/plain": [
       "mean_train_score    1.000000\n",
       "mean_test_score     0.657738\n",
       "dtype: float64"
      ]
     },
     "execution_count": 17,
     "metadata": {},
     "output_type": "execute_result"
    }
   ],
   "source": [
    "svc_final_df.loc[:,['mean_train_score','mean_test_score']].max()"
   ]
  },
  {
   "cell_type": "code",
   "execution_count": 18,
   "id": "09e5fbf1",
   "metadata": {},
   "outputs": [
    {
     "data": {
      "text/plain": [
       "{'C': 1.0,\n",
       " 'break_ties': False,\n",
       " 'cache_size': 200,\n",
       " 'class_weight': None,\n",
       " 'coef0': 0.0,\n",
       " 'decision_function_shape': 'ovr',\n",
       " 'degree': 3,\n",
       " 'gamma': 'scale',\n",
       " 'kernel': 'rbf',\n",
       " 'max_iter': 100000.0,\n",
       " 'probability': True,\n",
       " 'random_state': 144,\n",
       " 'shrinking': True,\n",
       " 'tol': 0.001,\n",
       " 'verbose': False}"
      ]
     },
     "execution_count": 18,
     "metadata": {},
     "output_type": "execute_result"
    }
   ],
   "source": [
    "svc_grid.best_estimator_.get_params()"
   ]
  },
  {
   "cell_type": "code",
   "execution_count": 21,
   "id": "f0fe96c8",
   "metadata": {},
   "outputs": [
    {
     "name": "stdout",
     "output_type": "stream",
     "text": [
      "Training score is :0.75\n",
      "Testing  score is :0.62\n"
     ]
    }
   ],
   "source": [
    "print('Training score is :' + str(np.round(svc_grid.best_estimator_.score(X_train_scaled, Y_train),2)))\n",
    "print('Testing  score is :' + str(np.round(svc_grid.best_estimator_.score(X_test_scaled, Y_test),2)))"
   ]
  },
  {
   "cell_type": "code",
   "execution_count": 22,
   "id": "1840ee76",
   "metadata": {},
   "outputs": [
    {
     "data": {
      "text/plain": [
       "array([120, 122,  46,  43,  12])"
      ]
     },
     "execution_count": 22,
     "metadata": {},
     "output_type": "execute_result"
    }
   ],
   "source": [
    "svc_grid.best_estimator_.n_support_"
   ]
  },
  {
   "cell_type": "code",
   "execution_count": 47,
   "id": "a7a5e9e2",
   "metadata": {},
   "outputs": [
    {
     "name": "stdout",
     "output_type": "stream",
     "text": [
      "[144 140  46  43  12]\n",
      "Train score is :0.641\n",
      "Test score is :0.639\n"
     ]
    }
   ],
   "source": [
    "svc = svm.SVC()\n",
    "svc.set_params(C = 0.05, kernel = 'poly', max_iter = 1e5, degree = 1, probability = True, random_state = 144, gamma = 0.05)\n",
    "svc.fit(X_train_scaled,Y_train)\n",
    "r2_train = np.round(svc.score(X_train_scaled, Y_train),3)\n",
    "r2_test  = np.round(svc.score(X_test_scaled, Y_test),3)\n",
    "print(svc.n_support_)\n",
    "print('Train score is :' + str(r2_train))\n",
    "print('Test score is :' + str(r2_test))"
   ]
  },
  {
   "cell_type": "code",
   "execution_count": 48,
   "id": "d3ce2b31",
   "metadata": {},
   "outputs": [
    {
     "name": "stdout",
     "output_type": "stream",
     "text": [
      "****************************************************************************************************\n"
     ]
    },
    {
     "data": {
      "image/png": "[encoded data removed]",
      "text/plain": [
       "<Figure size 1296x432 with 4 Axes>"
      ]
     },
     "metadata": {
      "needs_background": "light"
     },
     "output_type": "display_data"
    },
    {
     "data": {
      "image/png": "[encoded data removed]",
      "text/plain": [
       "<Figure size 1296x432 with 4 Axes>"
      ]
     },
     "metadata": {
      "needs_background": "light"
     },
     "output_type": "display_data"
    }
   ],
   "source": [
    "conf_data_train = confusion_matrix(Y_train,svc.predict(X_train_scaled))\n",
    "conf_data_test  = confusion_matrix(Y_test,svc.predict(X_test_scaled))\n",
    "\n",
    "fig, ax = plt.subplots(1,2,figsize= (18,6))\n",
    "sns.heatmap(conf_data_train, ax = ax[0], annot=True)\n",
    "sns.heatmap(conf_data_test,  ax = ax[1], annot=True)\n",
    "\n",
    "ax[0].tick_params(axis='both',labelsize=16)\n",
    "ax[0].set_xlabel('Measured', fontsize= 18)\n",
    "ax[0].set_ylabel('Predicted', fontsize= 18)\n",
    "ax[0].set_title('Train Set',fontsize= 22)\n",
    "\n",
    "ax[1].tick_params(axis='both',labelsize=16)\n",
    "ax[1].set_xlabel('Measured', fontsize= 18)\n",
    "ax[1].set_ylabel('Predicted', fontsize= 18)\n",
    "ax[1].set_title('Test Set',fontsize= 22);\n",
    "\n",
    "conf_train_norm = np.zeros_like(conf_data_train, dtype=float)\n",
    "conf_test_norm = np.zeros_like(conf_data_test, dtype=float)\n",
    "\n",
    "sum_vec_train = np.sum(conf_data_train, axis = 1)\n",
    "sum_vec_test  = np.sum(conf_data_test , axis = 1)\n",
    "\n",
    "print('*'*100)\n",
    "\n",
    "for irow in range(conf_train_norm.shape[0]):\n",
    "    \n",
    "    conf_train_norm[irow,:] = 100 * np.round(conf_data_train[irow,:]/sum_vec_train[irow],2)\n",
    "    conf_test_norm[irow,:]  = 100 * np.round(conf_data_test[irow,:]/sum_vec_test[irow],2)\n",
    "    \n",
    "fig, ax = plt.subplots(1,2,figsize= (18,6))\n",
    "sns.heatmap(conf_train_norm, ax = ax[0], annot=True)\n",
    "sns.heatmap(conf_test_norm,  ax = ax[1], annot=True)\n",
    "\n",
    "ax[0].tick_params(axis='both',labelsize=16)\n",
    "ax[0].set_xlabel('Measured', fontsize= 18)\n",
    "ax[0].set_ylabel('Predicted', fontsize= 18)\n",
    "ax[0].set_title('Train Set (Percent)',fontsize= 22)\n",
    "\n",
    "ax[1].tick_params(axis='both',labelsize=16)\n",
    "ax[1].set_xlabel('Measured', fontsize= 18)\n",
    "ax[1].set_ylabel('Predicted', fontsize= 18)\n",
    "ax[1].set_title('Test Set (Percent)',fontsize= 22);"
   ]
  },
  {
   "cell_type": "code",
   "execution_count": null,
   "id": "a154b5a4",
   "metadata": {},
   "outputs": [],
   "source": []
  }
 ],
 "metadata": {
  "kernelspec": {
   "display_name": "Python 3 (ipykernel)",
   "language": "python",
   "name": "python3"
  },
  "language_info": {
   "codemirror_mode": {
    "name": "ipython",
    "version": 3
   },
   "file_extension": ".py",
   "mimetype": "text/x-python",
   "name": "python",
   "nbconvert_exporter": "python",
   "pygments_lexer": "ipython3",
   "version": "3.9.12"
  }
 },
 "nbformat": 4,
 "nbformat_minor": 5
}
