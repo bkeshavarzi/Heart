{
 "cells": [
  {
   "cell_type": "code",
   "execution_count": 1,
   "id": "380ee007",
   "metadata": {},
   "outputs": [],
   "source": [
    "import numpy as np\n",
    "import pandas as pd\n",
    "import matplotlib.pyplot as plt\n",
    "import seaborn as sns \n",
    "import time\n",
    "import sklearn\n",
    "import scipy"
   ]
  },
  {
   "cell_type": "code",
   "execution_count": 2,
   "id": "520ba8aa",
   "metadata": {},
   "outputs": [],
   "source": [
    "from sklearn.linear_model import LogisticRegression\n",
    "from sklearn.linear_model import SGDClassifier\n",
    "from sklearn.model_selection import train_test_split\n",
    "from sklearn.model_selection import GridSearchCV"
   ]
  },
  {
   "cell_type": "code",
   "execution_count": 3,
   "id": "fe50c0b0",
   "metadata": {},
   "outputs": [
    {
     "data": {
      "text/html": [
       "<div>\n",
       "<style scoped>\n",
       "    .dataframe tbody tr th:only-of-type {\n",
       "        vertical-align: middle;\n",
       "    }\n",
       "\n",
       "    .dataframe tbody tr th {\n",
       "        vertical-align: top;\n",
       "    }\n",
       "\n",
       "    .dataframe thead th {\n",
       "        text-align: right;\n",
       "    }\n",
       "</style>\n",
       "<table border=\"1\" class=\"dataframe\">\n",
       "  <thead>\n",
       "    <tr style=\"text-align: right;\">\n",
       "      <th></th>\n",
       "      <th>age</th>\n",
       "      <th>sex</th>\n",
       "      <th>cp</th>\n",
       "      <th>trestbps</th>\n",
       "      <th>chol</th>\n",
       "      <th>fbs</th>\n",
       "      <th>restecg</th>\n",
       "      <th>thalach</th>\n",
       "      <th>exang</th>\n",
       "      <th>oldpeak</th>\n",
       "      <th>slope</th>\n",
       "      <th>ca</th>\n",
       "      <th>thal</th>\n",
       "      <th>num</th>\n",
       "    </tr>\n",
       "  </thead>\n",
       "  <tbody>\n",
       "    <tr>\n",
       "      <th>0</th>\n",
       "      <td>63.0</td>\n",
       "      <td>1.0</td>\n",
       "      <td>1.0</td>\n",
       "      <td>145.0</td>\n",
       "      <td>233.0</td>\n",
       "      <td>1.0</td>\n",
       "      <td>2.0</td>\n",
       "      <td>150.0</td>\n",
       "      <td>0.0</td>\n",
       "      <td>2.3</td>\n",
       "      <td>3.0</td>\n",
       "      <td>0.0</td>\n",
       "      <td>6.0</td>\n",
       "      <td>0.0</td>\n",
       "    </tr>\n",
       "    <tr>\n",
       "      <th>1</th>\n",
       "      <td>67.0</td>\n",
       "      <td>1.0</td>\n",
       "      <td>4.0</td>\n",
       "      <td>160.0</td>\n",
       "      <td>286.0</td>\n",
       "      <td>0.0</td>\n",
       "      <td>2.0</td>\n",
       "      <td>108.0</td>\n",
       "      <td>1.0</td>\n",
       "      <td>1.5</td>\n",
       "      <td>2.0</td>\n",
       "      <td>3.0</td>\n",
       "      <td>3.0</td>\n",
       "      <td>2.0</td>\n",
       "    </tr>\n",
       "    <tr>\n",
       "      <th>2</th>\n",
       "      <td>67.0</td>\n",
       "      <td>1.0</td>\n",
       "      <td>4.0</td>\n",
       "      <td>120.0</td>\n",
       "      <td>229.0</td>\n",
       "      <td>0.0</td>\n",
       "      <td>2.0</td>\n",
       "      <td>129.0</td>\n",
       "      <td>1.0</td>\n",
       "      <td>2.6</td>\n",
       "      <td>2.0</td>\n",
       "      <td>2.0</td>\n",
       "      <td>7.0</td>\n",
       "      <td>1.0</td>\n",
       "    </tr>\n",
       "  </tbody>\n",
       "</table>\n",
       "</div>"
      ],
      "text/plain": [
       "    age  sex   cp  trestbps   chol  fbs  restecg  thalach  exang  oldpeak  \\\n",
       "0  63.0  1.0  1.0     145.0  233.0  1.0      2.0    150.0    0.0      2.3   \n",
       "1  67.0  1.0  4.0     160.0  286.0  0.0      2.0    108.0    1.0      1.5   \n",
       "2  67.0  1.0  4.0     120.0  229.0  0.0      2.0    129.0    1.0      2.6   \n",
       "\n",
       "   slope   ca  thal  num  \n",
       "0    3.0  0.0   6.0  0.0  \n",
       "1    2.0  3.0   3.0  2.0  \n",
       "2    2.0  2.0   7.0  1.0  "
      ]
     },
     "execution_count": 3,
     "metadata": {},
     "output_type": "execute_result"
    }
   ],
   "source": [
    "heart = pd.read_csv('FinalHeart.csv')\n",
    "heart.drop(['Unnamed: 0'],axis=1,inplace=True)\n",
    "heart.head(3)"
   ]
  },
  {
   "cell_type": "code",
   "execution_count": 4,
   "id": "e22fe8d9",
   "metadata": {},
   "outputs": [],
   "source": [
    "from sklearn.tree import DecisionTreeClassifier"
   ]
  },
  {
   "cell_type": "code",
   "execution_count": 5,
   "id": "c2f2ee13",
   "metadata": {},
   "outputs": [],
   "source": [
    "dtc = DecisionTreeClassifier()"
   ]
  },
  {
   "cell_type": "code",
   "execution_count": 6,
   "id": "9d86d1e7",
   "metadata": {},
   "outputs": [],
   "source": [
    "from sklearn.model_selection import train_test_split"
   ]
  },
  {
   "cell_type": "code",
   "execution_count": 7,
   "id": "863401f9",
   "metadata": {},
   "outputs": [],
   "source": [
    "X = heart.drop(['num'],axis=1).copy()\n",
    "Y = heart.num.copy()"
   ]
  },
  {
   "cell_type": "code",
   "execution_count": 8,
   "id": "9f2f5d8a",
   "metadata": {},
   "outputs": [],
   "source": [
    "X_train, X_test, Y_train, Y_test = train_test_split(X,Y, test_size= 0.33, stratify=Y)"
   ]
  },
  {
   "cell_type": "code",
   "execution_count": 9,
   "id": "f9830bf3",
   "metadata": {},
   "outputs": [
    {
     "data": {
      "text/plain": [
       "{'ccp_alpha': 0.0,\n",
       " 'class_weight': None,\n",
       " 'criterion': 'gini',\n",
       " 'max_depth': None,\n",
       " 'max_features': None,\n",
       " 'max_leaf_nodes': None,\n",
       " 'min_impurity_decrease': 0.0,\n",
       " 'min_samples_leaf': 1,\n",
       " 'min_samples_split': 2,\n",
       " 'min_weight_fraction_leaf': 0.0,\n",
       " 'random_state': None,\n",
       " 'splitter': 'best'}"
      ]
     },
     "execution_count": 9,
     "metadata": {},
     "output_type": "execute_result"
    }
   ],
   "source": [
    "dtc.get_params()"
   ]
  },
  {
   "cell_type": "code",
   "execution_count": 12,
   "id": "6bcdf75b",
   "metadata": {},
   "outputs": [
    {
     "name": "stdout",
     "output_type": "stream",
     "text": [
      "CPU times: total: 0 ns\n",
      "Wall time: 5.02 ms\n",
      "Train score is :1.0\n",
      "Test score is :0.508\n"
     ]
    }
   ],
   "source": [
    "dtc = DecisionTreeClassifier()\n",
    "dtc.set_params( random_state = 144)\n",
    "%time dtc.fit(X_train, Y_train)\n",
    "r2_train = np.round(dtc.score(X_train, Y_train),3)\n",
    "r2_test  = np.round(dtc.score(X_test, Y_test),3)\n",
    "print('Train score is :' + str(r2_train))\n",
    "print('Test score is :' + str(r2_test))"
   ]
  },
  {
   "cell_type": "code",
   "execution_count": 13,
   "id": "9cd15415",
   "metadata": {},
   "outputs": [
    {
     "data": {
      "text/plain": [
       "(720, 14)"
      ]
     },
     "execution_count": 13,
     "metadata": {},
     "output_type": "execute_result"
    }
   ],
   "source": [
    "heart.shape"
   ]
  },
  {
   "cell_type": "code",
   "execution_count": 14,
   "id": "4aad5c8f",
   "metadata": {},
   "outputs": [],
   "source": [
    "criterion      = ['gini','entropy','log_loss']\n",
    "max_depth      = np.arange(1,80, 5)\n",
    "max_features   = np.arange(1,14,2)\n",
    "max_leaf_nodes = np.arange(1,40,5)\n",
    "min_samples_leaf  = np.arange(1,50,5)\n",
    "min_samples_split = np.arange(2,20,2)"
   ]
  },
  {
   "cell_type": "code",
   "execution_count": 16,
   "id": "f758da01",
   "metadata": {},
   "outputs": [
    {
     "name": "stderr",
     "output_type": "stream",
     "text": [
      "C:\\ProgramData\\Anaconda3\\lib\\site-packages\\sklearn\\model_selection\\_validation.py:372: FitFailedWarning: \n",
      "302400 fits failed out of a total of 725760.\n",
      "The score on these train-test partitions for these parameters will be set to nan.\n",
      "If these failures are not expected, you can try to debug them by setting error_score='raise'.\n",
      "\n",
      "Below are more details about the failures:\n",
      "--------------------------------------------------------------------------------\n",
      "90720 fits failed with the following error:\n",
      "Traceback (most recent call last):\n",
      "  File \"C:\\ProgramData\\Anaconda3\\lib\\site-packages\\sklearn\\model_selection\\_validation.py\", line 680, in _fit_and_score\n",
      "    estimator.fit(X_train, y_train, **fit_params)\n",
      "  File \"C:\\ProgramData\\Anaconda3\\lib\\site-packages\\sklearn\\tree\\_classes.py\", line 937, in fit\n",
      "    super().fit(\n",
      "  File \"C:\\ProgramData\\Anaconda3\\lib\\site-packages\\sklearn\\tree\\_classes.py\", line 314, in fit\n",
      "    raise ValueError(\n",
      "ValueError: max_leaf_nodes 1 must be either None or larger than 1\n",
      "\n",
      "--------------------------------------------------------------------------------\n",
      "211680 fits failed with the following error:\n",
      "Traceback (most recent call last):\n",
      "  File \"C:\\ProgramData\\Anaconda3\\lib\\site-packages\\sklearn\\model_selection\\_validation.py\", line 680, in _fit_and_score\n",
      "    estimator.fit(X_train, y_train, **fit_params)\n",
      "  File \"C:\\ProgramData\\Anaconda3\\lib\\site-packages\\sklearn\\tree\\_classes.py\", line 937, in fit\n",
      "    super().fit(\n",
      "  File \"C:\\ProgramData\\Anaconda3\\lib\\site-packages\\sklearn\\tree\\_classes.py\", line 352, in fit\n",
      "    criterion = CRITERIA_CLF[self.criterion](\n",
      "KeyError: 'log_loss'\n",
      "\n",
      "  warnings.warn(some_fits_failed_message, FitFailedWarning)\n",
      "C:\\ProgramData\\Anaconda3\\lib\\site-packages\\sklearn\\model_selection\\_search.py:969: UserWarning: One or more of the test scores are non-finite: [nan nan nan ... nan nan nan]\n",
      "  warnings.warn(\n",
      "C:\\ProgramData\\Anaconda3\\lib\\site-packages\\sklearn\\model_selection\\_search.py:969: UserWarning: One or more of the train scores are non-finite: [nan nan nan ... nan nan nan]\n",
      "  warnings.warn(\n"
     ]
    },
    {
     "name": "stdout",
     "output_type": "stream",
     "text": [
      "CPU times: total: 39min 54s\n",
      "Wall time: 40min 9s\n"
     ]
    },
    {
     "data": {
      "text/plain": [
       "GridSearchCV(cv=3, estimator=DecisionTreeClassifier(random_state=144),\n",
       "             param_grid={'criterion': ['gini', 'entropy', 'log_loss'],\n",
       "                         'max_depth': array([ 1,  6, 11, 16, 21, 26, 31, 36, 41, 46, 51, 56, 61, 66, 71, 76]),\n",
       "                         'max_features': array([ 1,  3,  5,  7,  9, 11, 13]),\n",
       "                         'max_leaf_nodes': array([ 1,  6, 11, 16, 21, 26, 31, 36]),\n",
       "                         'min_samples_leaf': array([ 1,  6, 11, 16, 21, 26, 31, 36, 41, 46]),\n",
       "                         'min_samples_split': array([ 2,  4,  6,  8, 10, 12, 14, 16, 18])},\n",
       "             return_train_score=True)"
      ]
     },
     "execution_count": 16,
     "metadata": {},
     "output_type": "execute_result"
    }
   ],
   "source": [
    "dtc = DecisionTreeClassifier()\n",
    "dtc.set_params( random_state = 144)\n",
    "\n",
    "param_grid = {'criterion':criterion, 'max_depth':max_depth, 'max_features':max_features, 'max_leaf_nodes':max_leaf_nodes,\n",
    "             'min_samples_leaf':min_samples_leaf, 'min_samples_split':min_samples_split}\n",
    "dtc_grid = GridSearchCV(dtc, param_grid, cv = 3, return_train_score=True)\n",
    "%time dtc_grid.fit(X_train, Y_train)"
   ]
  },
  {
   "cell_type": "code",
   "execution_count": 17,
   "id": "5f9042bb",
   "metadata": {},
   "outputs": [
    {
     "data": {
      "text/plain": [
       "(241920, 22)"
      ]
     },
     "execution_count": 17,
     "metadata": {},
     "output_type": "execute_result"
    }
   ],
   "source": [
    "dtc_df = pd.DataFrame(dtc_grid.cv_results_)\n",
    "dtc_df.shape"
   ]
  },
  {
   "cell_type": "code",
   "execution_count": 21,
   "id": "1f87a518",
   "metadata": {},
   "outputs": [],
   "source": [
    "dtc_df.dropna(axis = 0, how = 'any', inplace=True)"
   ]
  },
  {
   "cell_type": "code",
   "execution_count": 22,
   "id": "8d47fbda",
   "metadata": {},
   "outputs": [
    {
     "data": {
      "text/plain": [
       "(141120, 22)"
      ]
     },
     "execution_count": 22,
     "metadata": {},
     "output_type": "execute_result"
    }
   ],
   "source": [
    "dtc_df.shape"
   ]
  },
  {
   "cell_type": "code",
   "execution_count": 23,
   "id": "38dfaec2",
   "metadata": {},
   "outputs": [
    {
     "data": {
      "text/plain": [
       "Index(['mean_fit_time', 'std_fit_time', 'mean_score_time', 'std_score_time',\n",
       "       'param_criterion', 'param_max_depth', 'param_max_features',\n",
       "       'param_max_leaf_nodes', 'param_min_samples_leaf',\n",
       "       'param_min_samples_split', 'params', 'split0_test_score',\n",
       "       'split1_test_score', 'split2_test_score', 'mean_test_score',\n",
       "       'std_test_score', 'rank_test_score', 'split0_train_score',\n",
       "       'split1_train_score', 'split2_train_score', 'mean_train_score',\n",
       "       'std_train_score'],\n",
       "      dtype='object')"
      ]
     },
     "execution_count": 23,
     "metadata": {},
     "output_type": "execute_result"
    }
   ],
   "source": [
    "dtc_df.columns"
   ]
  },
  {
   "cell_type": "code",
   "execution_count": 24,
   "id": "a49faffd",
   "metadata": {},
   "outputs": [],
   "source": [
    "dtc_final_df = dtc_df.loc[:,['param_criterion','param_max_depth','param_max_features',\n",
    "                            'param_max_leaf_nodes','param_min_samples_leaf','param_min_samples_split',\n",
    "                            'mean_train_score','mean_test_score']]"
   ]
  },
  {
   "cell_type": "code",
   "execution_count": 25,
   "id": "387e6c4e",
   "metadata": {},
   "outputs": [
    {
     "data": {
      "text/html": [
       "<div>\n",
       "<style scoped>\n",
       "    .dataframe tbody tr th:only-of-type {\n",
       "        vertical-align: middle;\n",
       "    }\n",
       "\n",
       "    .dataframe tbody tr th {\n",
       "        vertical-align: top;\n",
       "    }\n",
       "\n",
       "    .dataframe thead th {\n",
       "        text-align: right;\n",
       "    }\n",
       "</style>\n",
       "<table border=\"1\" class=\"dataframe\">\n",
       "  <thead>\n",
       "    <tr style=\"text-align: right;\">\n",
       "      <th></th>\n",
       "      <th>param_criterion</th>\n",
       "      <th>param_max_depth</th>\n",
       "      <th>param_max_features</th>\n",
       "      <th>param_max_leaf_nodes</th>\n",
       "      <th>param_min_samples_leaf</th>\n",
       "      <th>param_min_samples_split</th>\n",
       "      <th>mean_train_score</th>\n",
       "      <th>mean_test_score</th>\n",
       "    </tr>\n",
       "  </thead>\n",
       "  <tbody>\n",
       "    <tr>\n",
       "      <th>42660</th>\n",
       "      <td>gini</td>\n",
       "      <td>41</td>\n",
       "      <td>7</td>\n",
       "      <td>11</td>\n",
       "      <td>1</td>\n",
       "      <td>2</td>\n",
       "      <td>0.710600</td>\n",
       "      <td>0.620367</td>\n",
       "    </tr>\n",
       "    <tr>\n",
       "      <th>92079</th>\n",
       "      <td>entropy</td>\n",
       "      <td>11</td>\n",
       "      <td>3</td>\n",
       "      <td>36</td>\n",
       "      <td>6</td>\n",
       "      <td>2</td>\n",
       "      <td>0.704337</td>\n",
       "      <td>0.603753</td>\n",
       "    </tr>\n",
       "    <tr>\n",
       "      <th>18492</th>\n",
       "      <td>gini</td>\n",
       "      <td>16</td>\n",
       "      <td>9</td>\n",
       "      <td>26</td>\n",
       "      <td>21</td>\n",
       "      <td>14</td>\n",
       "      <td>0.661829</td>\n",
       "      <td>0.641046</td>\n",
       "    </tr>\n",
       "    <tr>\n",
       "      <th>63999</th>\n",
       "      <td>gini</td>\n",
       "      <td>61</td>\n",
       "      <td>9</td>\n",
       "      <td>36</td>\n",
       "      <td>6</td>\n",
       "      <td>2</td>\n",
       "      <td>0.748963</td>\n",
       "      <td>0.591291</td>\n",
       "    </tr>\n",
       "    <tr>\n",
       "      <th>145316</th>\n",
       "      <td>entropy</td>\n",
       "      <td>61</td>\n",
       "      <td>11</td>\n",
       "      <td>31</td>\n",
       "      <td>31</td>\n",
       "      <td>6</td>\n",
       "      <td>0.654586</td>\n",
       "      <td>0.616253</td>\n",
       "    </tr>\n",
       "    <tr>\n",
       "      <th>32243</th>\n",
       "      <td>gini</td>\n",
       "      <td>31</td>\n",
       "      <td>5</td>\n",
       "      <td>31</td>\n",
       "      <td>11</td>\n",
       "      <td>12</td>\n",
       "      <td>0.690854</td>\n",
       "      <td>0.589195</td>\n",
       "    </tr>\n",
       "    <tr>\n",
       "      <th>107150</th>\n",
       "      <td>entropy</td>\n",
       "      <td>26</td>\n",
       "      <td>3</td>\n",
       "      <td>31</td>\n",
       "      <td>26</td>\n",
       "      <td>12</td>\n",
       "      <td>0.647295</td>\n",
       "      <td>0.609990</td>\n",
       "    </tr>\n",
       "    <tr>\n",
       "      <th>43611</th>\n",
       "      <td>gini</td>\n",
       "      <td>41</td>\n",
       "      <td>9</td>\n",
       "      <td>21</td>\n",
       "      <td>26</td>\n",
       "      <td>14</td>\n",
       "      <td>0.657679</td>\n",
       "      <td>0.649392</td>\n",
       "    </tr>\n",
       "    <tr>\n",
       "      <th>62262</th>\n",
       "      <td>gini</td>\n",
       "      <td>61</td>\n",
       "      <td>5</td>\n",
       "      <td>16</td>\n",
       "      <td>41</td>\n",
       "      <td>2</td>\n",
       "      <td>0.614117</td>\n",
       "      <td>0.591278</td>\n",
       "    </tr>\n",
       "    <tr>\n",
       "      <th>102693</th>\n",
       "      <td>entropy</td>\n",
       "      <td>21</td>\n",
       "      <td>5</td>\n",
       "      <td>26</td>\n",
       "      <td>1</td>\n",
       "      <td>8</td>\n",
       "      <td>0.735457</td>\n",
       "      <td>0.601695</td>\n",
       "    </tr>\n",
       "  </tbody>\n",
       "</table>\n",
       "</div>"
      ],
      "text/plain": [
       "       param_criterion param_max_depth param_max_features  \\\n",
       "42660             gini              41                  7   \n",
       "92079          entropy              11                  3   \n",
       "18492             gini              16                  9   \n",
       "63999             gini              61                  9   \n",
       "145316         entropy              61                 11   \n",
       "32243             gini              31                  5   \n",
       "107150         entropy              26                  3   \n",
       "43611             gini              41                  9   \n",
       "62262             gini              61                  5   \n",
       "102693         entropy              21                  5   \n",
       "\n",
       "       param_max_leaf_nodes param_min_samples_leaf param_min_samples_split  \\\n",
       "42660                    11                      1                       2   \n",
       "92079                    36                      6                       2   \n",
       "18492                    26                     21                      14   \n",
       "63999                    36                      6                       2   \n",
       "145316                   31                     31                       6   \n",
       "32243                    31                     11                      12   \n",
       "107150                   31                     26                      12   \n",
       "43611                    21                     26                      14   \n",
       "62262                    16                     41                       2   \n",
       "102693                   26                      1                       8   \n",
       "\n",
       "        mean_train_score  mean_test_score  \n",
       "42660           0.710600         0.620367  \n",
       "92079           0.704337         0.603753  \n",
       "18492           0.661829         0.641046  \n",
       "63999           0.748963         0.591291  \n",
       "145316          0.654586         0.616253  \n",
       "32243           0.690854         0.589195  \n",
       "107150          0.647295         0.609990  \n",
       "43611           0.657679         0.649392  \n",
       "62262           0.614117         0.591278  \n",
       "102693          0.735457         0.601695  "
      ]
     },
     "execution_count": 25,
     "metadata": {},
     "output_type": "execute_result"
    }
   ],
   "source": [
    "dtc_final_df.sample(10)"
   ]
  },
  {
   "cell_type": "code",
   "execution_count": 29,
   "id": "b323c32f",
   "metadata": {},
   "outputs": [
    {
     "data": {
      "image/png": "[encoded data removed]",
      "text/plain": [
       "<Figure size 864x576 with 1 Axes>"
      ]
     },
     "metadata": {
      "needs_background": "light"
     },
     "output_type": "display_data"
    }
   ],
   "source": [
    "fig, ax = plt.subplots(1,1,figsize=(12,8))\n",
    "\n",
    "plt.scatter(x = np.arange(0,dtc_final_df.shape[0]), y = dtc_final_df.mean_train_score, color ='red')\n",
    "plt.scatter(x = np.arange(0,dtc_final_df.shape[0]), y = dtc_final_df.mean_test_score, color ='blue');"
   ]
  },
  {
   "cell_type": "code",
   "execution_count": 30,
   "id": "496b57b1",
   "metadata": {},
   "outputs": [],
   "source": [
    "dtc_final_df.to_csv('DecisionTreeCV.csv')"
   ]
  },
  {
   "cell_type": "code",
   "execution_count": null,
   "id": "24759f8b",
   "metadata": {},
   "outputs": [],
   "source": []
  }
 ],
 "metadata": {
  "kernelspec": {
   "display_name": "Python 3 (ipykernel)",
   "language": "python",
   "name": "python3"
  },
  "language_info": {
   "codemirror_mode": {
    "name": "ipython",
    "version": 3
   },
   "file_extension": ".py",
   "mimetype": "text/x-python",
   "name": "python",
   "nbconvert_exporter": "python",
   "pygments_lexer": "ipython3",
   "version": "3.9.12"
  }
 },
 "nbformat": 4,
 "nbformat_minor": 5
}
