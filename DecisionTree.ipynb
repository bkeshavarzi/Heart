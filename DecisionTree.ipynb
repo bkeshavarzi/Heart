{
 "cells": [
  {
   "cell_type": "code",
   "execution_count": 1,
   "id": "380ee007",
   "metadata": {},
   "outputs": [],
   "source": [
    "import numpy as np\n",
    "import pandas as pd\n",
    "import matplotlib.pyplot as plt\n",
    "import seaborn as sns \n",
    "import time\n",
    "import sklearn\n",
    "import scipy"
   ]
  },
  {
   "cell_type": "code",
   "execution_count": 2,
   "id": "520ba8aa",
   "metadata": {},
   "outputs": [],
   "source": [
    "from sklearn.linear_model import LogisticRegression\n",
    "from sklearn.linear_model import SGDClassifier\n",
    "from sklearn.model_selection import train_test_split\n",
    "from sklearn.model_selection import GridSearchCV, cross_val_score\n",
    "from sklearn.metrics import confusion_matrix"
   ]
  },
  {
   "cell_type": "code",
   "execution_count": 3,
   "id": "fe50c0b0",
   "metadata": {},
   "outputs": [
    {
     "data": {
      "text/html": [
       "<div>\n",
       "<style scoped>\n",
       "    .dataframe tbody tr th:only-of-type {\n",
       "        vertical-align: middle;\n",
       "    }\n",
       "\n",
       "    .dataframe tbody tr th {\n",
       "        vertical-align: top;\n",
       "    }\n",
       "\n",
       "    .dataframe thead th {\n",
       "        text-align: right;\n",
       "    }\n",
       "</style>\n",
       "<table border=\"1\" class=\"dataframe\">\n",
       "  <thead>\n",
       "    <tr style=\"text-align: right;\">\n",
       "      <th></th>\n",
       "      <th>age</th>\n",
       "      <th>sex</th>\n",
       "      <th>cp</th>\n",
       "      <th>trestbps</th>\n",
       "      <th>chol</th>\n",
       "      <th>fbs</th>\n",
       "      <th>restecg</th>\n",
       "      <th>thalach</th>\n",
       "      <th>exang</th>\n",
       "      <th>oldpeak</th>\n",
       "      <th>slope</th>\n",
       "      <th>ca</th>\n",
       "      <th>thal</th>\n",
       "      <th>num</th>\n",
       "    </tr>\n",
       "  </thead>\n",
       "  <tbody>\n",
       "    <tr>\n",
       "      <th>0</th>\n",
       "      <td>63.0</td>\n",
       "      <td>1.0</td>\n",
       "      <td>1.0</td>\n",
       "      <td>145.0</td>\n",
       "      <td>233.0</td>\n",
       "      <td>1.0</td>\n",
       "      <td>2.0</td>\n",
       "      <td>150.0</td>\n",
       "      <td>0.0</td>\n",
       "      <td>2.3</td>\n",
       "      <td>3.0</td>\n",
       "      <td>0.0</td>\n",
       "      <td>6.0</td>\n",
       "      <td>0.0</td>\n",
       "    </tr>\n",
       "    <tr>\n",
       "      <th>1</th>\n",
       "      <td>67.0</td>\n",
       "      <td>1.0</td>\n",
       "      <td>4.0</td>\n",
       "      <td>160.0</td>\n",
       "      <td>286.0</td>\n",
       "      <td>0.0</td>\n",
       "      <td>2.0</td>\n",
       "      <td>108.0</td>\n",
       "      <td>1.0</td>\n",
       "      <td>1.5</td>\n",
       "      <td>2.0</td>\n",
       "      <td>3.0</td>\n",
       "      <td>3.0</td>\n",
       "      <td>2.0</td>\n",
       "    </tr>\n",
       "    <tr>\n",
       "      <th>2</th>\n",
       "      <td>67.0</td>\n",
       "      <td>1.0</td>\n",
       "      <td>4.0</td>\n",
       "      <td>120.0</td>\n",
       "      <td>229.0</td>\n",
       "      <td>0.0</td>\n",
       "      <td>2.0</td>\n",
       "      <td>129.0</td>\n",
       "      <td>1.0</td>\n",
       "      <td>2.6</td>\n",
       "      <td>2.0</td>\n",
       "      <td>2.0</td>\n",
       "      <td>7.0</td>\n",
       "      <td>1.0</td>\n",
       "    </tr>\n",
       "  </tbody>\n",
       "</table>\n",
       "</div>"
      ],
      "text/plain": [
       "    age  sex   cp  trestbps   chol  fbs  restecg  thalach  exang  oldpeak  \\\n",
       "0  63.0  1.0  1.0     145.0  233.0  1.0      2.0    150.0    0.0      2.3   \n",
       "1  67.0  1.0  4.0     160.0  286.0  0.0      2.0    108.0    1.0      1.5   \n",
       "2  67.0  1.0  4.0     120.0  229.0  0.0      2.0    129.0    1.0      2.6   \n",
       "\n",
       "   slope   ca  thal  num  \n",
       "0    3.0  0.0   6.0  0.0  \n",
       "1    2.0  3.0   3.0  2.0  \n",
       "2    2.0  2.0   7.0  1.0  "
      ]
     },
     "execution_count": 3,
     "metadata": {},
     "output_type": "execute_result"
    }
   ],
   "source": [
    "heart = pd.read_csv('FinalHeart.csv')\n",
    "heart.drop(['Unnamed: 0'],axis=1,inplace=True)\n",
    "heart.head(3)"
   ]
  },
  {
   "cell_type": "code",
   "execution_count": 4,
   "id": "e22fe8d9",
   "metadata": {},
   "outputs": [],
   "source": [
    "from sklearn.tree import DecisionTreeClassifier"
   ]
  },
  {
   "cell_type": "code",
   "execution_count": 5,
   "id": "c2f2ee13",
   "metadata": {},
   "outputs": [],
   "source": [
    "dtc = DecisionTreeClassifier()"
   ]
  },
  {
   "cell_type": "code",
   "execution_count": 6,
   "id": "9d86d1e7",
   "metadata": {},
   "outputs": [],
   "source": [
    "from sklearn.model_selection import train_test_split"
   ]
  },
  {
   "cell_type": "code",
   "execution_count": 7,
   "id": "863401f9",
   "metadata": {},
   "outputs": [],
   "source": [
    "X = heart.drop(['num'],axis=1).copy()\n",
    "Y = heart.num.copy()"
   ]
  },
  {
   "cell_type": "code",
   "execution_count": 8,
   "id": "9f2f5d8a",
   "metadata": {},
   "outputs": [],
   "source": [
    "X_train, X_test, Y_train, Y_test = train_test_split(X,Y, test_size= 0.33, stratify=Y)"
   ]
  },
  {
   "cell_type": "code",
   "execution_count": 9,
   "id": "f9830bf3",
   "metadata": {},
   "outputs": [
    {
     "data": {
      "text/plain": [
       "{'ccp_alpha': 0.0,\n",
       " 'class_weight': None,\n",
       " 'criterion': 'gini',\n",
       " 'max_depth': None,\n",
       " 'max_features': None,\n",
       " 'max_leaf_nodes': None,\n",
       " 'min_impurity_decrease': 0.0,\n",
       " 'min_samples_leaf': 1,\n",
       " 'min_samples_split': 2,\n",
       " 'min_weight_fraction_leaf': 0.0,\n",
       " 'random_state': None,\n",
       " 'splitter': 'best'}"
      ]
     },
     "execution_count": 9,
     "metadata": {},
     "output_type": "execute_result"
    }
   ],
   "source": [
    "dtc.get_params()"
   ]
  },
  {
   "cell_type": "code",
   "execution_count": 10,
   "id": "6bcdf75b",
   "metadata": {},
   "outputs": [
    {
     "name": "stdout",
     "output_type": "stream",
     "text": [
      "CPU times: total: 0 ns\n",
      "Wall time: 4 ms\n",
      "Train score is :1.0\n",
      "Test score is :0.609\n"
     ]
    }
   ],
   "source": [
    "dtc = DecisionTreeClassifier()\n",
    "dtc.set_params( random_state = 144)\n",
    "%time dtc.fit(X_train, Y_train)\n",
    "r2_train = np.round(dtc.score(X_train, Y_train),3)\n",
    "r2_test  = np.round(dtc.score(X_test, Y_test),3)\n",
    "print('Train score is :' + str(r2_train))\n",
    "print('Test score is :' + str(r2_test))"
   ]
  },
  {
   "cell_type": "code",
   "execution_count": 11,
   "id": "4aad5c8f",
   "metadata": {},
   "outputs": [],
   "source": [
    "criterion      = ['gini','entropy','log_loss']\n",
    "max_depth      = np.arange(1,80, 5)\n",
    "max_features   = np.arange(1,14,2)\n",
    "min_samples_split = np.arange(2,20,2)"
   ]
  },
  {
   "cell_type": "code",
   "execution_count": 12,
   "id": "4aa24aa5",
   "metadata": {},
   "outputs": [],
   "source": [
    "import warnings\n",
    "warnings.filterwarnings('ignore')"
   ]
  },
  {
   "cell_type": "code",
   "execution_count": 13,
   "id": "f758da01",
   "metadata": {},
   "outputs": [
    {
     "name": "stdout",
     "output_type": "stream",
     "text": [
      "CPU times: total: 34.5 s\n",
      "Wall time: 34.6 s\n"
     ]
    },
    {
     "data": {
      "text/plain": [
       "GridSearchCV(cv=3, estimator=DecisionTreeClassifier(random_state=144),\n",
       "             param_grid={'criterion': ['gini', 'entropy', 'log_loss'],\n",
       "                         'max_depth': array([ 1,  6, 11, 16, 21, 26, 31, 36, 41, 46, 51, 56, 61, 66, 71, 76]),\n",
       "                         'max_features': array([ 1,  3,  5,  7,  9, 11, 13]),\n",
       "                         'min_samples_split': array([ 2,  4,  6,  8, 10, 12, 14, 16, 18])},\n",
       "             return_train_score=True)"
      ]
     },
     "execution_count": 13,
     "metadata": {},
     "output_type": "execute_result"
    }
   ],
   "source": [
    "dtc = DecisionTreeClassifier()\n",
    "dtc.set_params( random_state = 144)\n",
    "\n",
    "param_grid = {'criterion':criterion, 'max_depth':max_depth, 'max_features':max_features,\n",
    "              'min_samples_split':min_samples_split}\n",
    "\n",
    "dtc_grid = GridSearchCV(dtc, param_grid, cv = 3, return_train_score=True)\n",
    "%time dtc_grid.fit(X_train, Y_train)"
   ]
  },
  {
   "cell_type": "code",
   "execution_count": 14,
   "id": "5f9042bb",
   "metadata": {},
   "outputs": [
    {
     "data": {
      "text/plain": [
       "(3024, 20)"
      ]
     },
     "execution_count": 14,
     "metadata": {},
     "output_type": "execute_result"
    }
   ],
   "source": [
    "dtc_df = pd.DataFrame(dtc_grid.cv_results_)\n",
    "dtc_df.shape"
   ]
  },
  {
   "cell_type": "code",
   "execution_count": 15,
   "id": "1f87a518",
   "metadata": {},
   "outputs": [],
   "source": [
    "dtc_df.dropna(axis = 0, how = 'any', inplace=True)"
   ]
  },
  {
   "cell_type": "code",
   "execution_count": 16,
   "id": "8d47fbda",
   "metadata": {},
   "outputs": [
    {
     "data": {
      "text/plain": [
       "(2016, 20)"
      ]
     },
     "execution_count": 16,
     "metadata": {},
     "output_type": "execute_result"
    }
   ],
   "source": [
    "dtc_df.shape"
   ]
  },
  {
   "cell_type": "code",
   "execution_count": 17,
   "id": "a49faffd",
   "metadata": {},
   "outputs": [],
   "source": [
    "dtc_final_df = dtc_df.loc[:,['param_criterion','param_max_depth','param_max_features',\n",
    "                            'param_min_samples_split','mean_train_score','mean_test_score']]"
   ]
  },
  {
   "cell_type": "code",
   "execution_count": 18,
   "id": "b323c32f",
   "metadata": {},
   "outputs": [],
   "source": [
    "dtc_final_df['diff'] = abs(dtc_final_df['mean_train_score']-dtc_final_df['mean_test_score'])"
   ]
  },
  {
   "cell_type": "code",
   "execution_count": 19,
   "id": "55fb05f9",
   "metadata": {},
   "outputs": [],
   "source": [
    "dtc_final_df.to_csv('DecisionTree.csv')"
   ]
  },
  {
   "cell_type": "code",
   "execution_count": 20,
   "id": "24759f8b",
   "metadata": {},
   "outputs": [
    {
     "name": "stdout",
     "output_type": "stream",
     "text": [
      "Training score is :0.75\n",
      "Testing  score is :0.66\n"
     ]
    }
   ],
   "source": [
    "print('Training score is :' + str(np.round(dtc_grid.best_estimator_.score(X_train, Y_train),2)))\n",
    "print('Testing  score is :' + str(np.round(dtc_grid.best_estimator_.score(X_test, Y_test),2)))"
   ]
  },
  {
   "cell_type": "code",
   "execution_count": 21,
   "id": "f1c33ac5",
   "metadata": {},
   "outputs": [
    {
     "data": {
      "text/html": [
       "<div>\n",
       "<style scoped>\n",
       "    .dataframe tbody tr th:only-of-type {\n",
       "        vertical-align: middle;\n",
       "    }\n",
       "\n",
       "    .dataframe tbody tr th {\n",
       "        vertical-align: top;\n",
       "    }\n",
       "\n",
       "    .dataframe thead th {\n",
       "        text-align: right;\n",
       "    }\n",
       "</style>\n",
       "<table border=\"1\" class=\"dataframe\">\n",
       "  <thead>\n",
       "    <tr style=\"text-align: right;\">\n",
       "      <th></th>\n",
       "      <th>param_criterion</th>\n",
       "      <th>param_max_depth</th>\n",
       "      <th>param_max_features</th>\n",
       "      <th>param_min_samples_split</th>\n",
       "      <th>mean_train_score</th>\n",
       "      <th>mean_test_score</th>\n",
       "      <th>diff</th>\n",
       "    </tr>\n",
       "  </thead>\n",
       "  <tbody>\n",
       "    <tr>\n",
       "      <th>428</th>\n",
       "      <td>gini</td>\n",
       "      <td>31</td>\n",
       "      <td>11</td>\n",
       "      <td>12</td>\n",
       "      <td>0.810169</td>\n",
       "      <td>0.556004</td>\n",
       "      <td>0.254165</td>\n",
       "    </tr>\n",
       "    <tr>\n",
       "      <th>932</th>\n",
       "      <td>gini</td>\n",
       "      <td>71</td>\n",
       "      <td>11</td>\n",
       "      <td>12</td>\n",
       "      <td>0.810169</td>\n",
       "      <td>0.556004</td>\n",
       "      <td>0.254165</td>\n",
       "    </tr>\n",
       "    <tr>\n",
       "      <th>302</th>\n",
       "      <td>gini</td>\n",
       "      <td>21</td>\n",
       "      <td>11</td>\n",
       "      <td>12</td>\n",
       "      <td>0.810169</td>\n",
       "      <td>0.556004</td>\n",
       "      <td>0.254165</td>\n",
       "    </tr>\n",
       "    <tr>\n",
       "      <th>1462</th>\n",
       "      <td>entropy</td>\n",
       "      <td>36</td>\n",
       "      <td>3</td>\n",
       "      <td>10</td>\n",
       "      <td>0.791516</td>\n",
       "      <td>0.537384</td>\n",
       "      <td>0.254132</td>\n",
       "    </tr>\n",
       "    <tr>\n",
       "      <th>1588</th>\n",
       "      <td>entropy</td>\n",
       "      <td>46</td>\n",
       "      <td>3</td>\n",
       "      <td>10</td>\n",
       "      <td>0.791516</td>\n",
       "      <td>0.537384</td>\n",
       "      <td>0.254132</td>\n",
       "    </tr>\n",
       "    <tr>\n",
       "      <th>...</th>\n",
       "      <td>...</td>\n",
       "      <td>...</td>\n",
       "      <td>...</td>\n",
       "      <td>...</td>\n",
       "      <td>...</td>\n",
       "      <td>...</td>\n",
       "      <td>...</td>\n",
       "    </tr>\n",
       "    <tr>\n",
       "      <th>1011</th>\n",
       "      <td>entropy</td>\n",
       "      <td>1</td>\n",
       "      <td>1</td>\n",
       "      <td>8</td>\n",
       "      <td>0.500003</td>\n",
       "      <td>0.500013</td>\n",
       "      <td>0.000010</td>\n",
       "    </tr>\n",
       "    <tr>\n",
       "      <th>1012</th>\n",
       "      <td>entropy</td>\n",
       "      <td>1</td>\n",
       "      <td>1</td>\n",
       "      <td>10</td>\n",
       "      <td>0.500003</td>\n",
       "      <td>0.500013</td>\n",
       "      <td>0.000010</td>\n",
       "    </tr>\n",
       "    <tr>\n",
       "      <th>1013</th>\n",
       "      <td>entropy</td>\n",
       "      <td>1</td>\n",
       "      <td>1</td>\n",
       "      <td>12</td>\n",
       "      <td>0.500003</td>\n",
       "      <td>0.500013</td>\n",
       "      <td>0.000010</td>\n",
       "    </tr>\n",
       "    <tr>\n",
       "      <th>1014</th>\n",
       "      <td>entropy</td>\n",
       "      <td>1</td>\n",
       "      <td>1</td>\n",
       "      <td>14</td>\n",
       "      <td>0.500003</td>\n",
       "      <td>0.500013</td>\n",
       "      <td>0.000010</td>\n",
       "    </tr>\n",
       "    <tr>\n",
       "      <th>1008</th>\n",
       "      <td>entropy</td>\n",
       "      <td>1</td>\n",
       "      <td>1</td>\n",
       "      <td>2</td>\n",
       "      <td>0.500003</td>\n",
       "      <td>0.500013</td>\n",
       "      <td>0.000010</td>\n",
       "    </tr>\n",
       "  </tbody>\n",
       "</table>\n",
       "<p>1166 rows × 7 columns</p>\n",
       "</div>"
      ],
      "text/plain": [
       "     param_criterion param_max_depth param_max_features  \\\n",
       "428             gini              31                 11   \n",
       "932             gini              71                 11   \n",
       "302             gini              21                 11   \n",
       "1462         entropy              36                  3   \n",
       "1588         entropy              46                  3   \n",
       "...              ...             ...                ...   \n",
       "1011         entropy               1                  1   \n",
       "1012         entropy               1                  1   \n",
       "1013         entropy               1                  1   \n",
       "1014         entropy               1                  1   \n",
       "1008         entropy               1                  1   \n",
       "\n",
       "     param_min_samples_split  mean_train_score  mean_test_score      diff  \n",
       "428                       12          0.810169         0.556004  0.254165  \n",
       "932                       12          0.810169         0.556004  0.254165  \n",
       "302                       12          0.810169         0.556004  0.254165  \n",
       "1462                      10          0.791516         0.537384  0.254132  \n",
       "1588                      10          0.791516         0.537384  0.254132  \n",
       "...                      ...               ...              ...       ...  \n",
       "1011                       8          0.500003         0.500013  0.000010  \n",
       "1012                      10          0.500003         0.500013  0.000010  \n",
       "1013                      12          0.500003         0.500013  0.000010  \n",
       "1014                      14          0.500003         0.500013  0.000010  \n",
       "1008                       2          0.500003         0.500013  0.000010  \n",
       "\n",
       "[1166 rows x 7 columns]"
      ]
     },
     "execution_count": 21,
     "metadata": {},
     "output_type": "execute_result"
    }
   ],
   "source": [
    "dtc_final_df.sort_values(by='diff', ascending = False).iloc[850:,:]"
   ]
  },
  {
   "cell_type": "code",
   "execution_count": 23,
   "id": "db711a04",
   "metadata": {},
   "outputs": [
    {
     "name": "stdout",
     "output_type": "stream",
     "text": [
      "Train score is :0.635\n",
      "Test score is :0.634\n"
     ]
    }
   ],
   "source": [
    "#final decision tree model\n",
    "dtc = DecisionTreeClassifier()\n",
    "dtc.set_params(criterion = 'entropy', max_depth = 3, max_features = 5, min_samples_split = 12, random_state = 144)\n",
    "dtc.fit(X_train, Y_train)\n",
    "\n",
    "r2_train = np.round(dtc.score(X_train, Y_train),3)\n",
    "r2_test  = np.round(dtc.score(X_test, Y_test),3)\n",
    "\n",
    "print('Train score is :' + str(r2_train))\n",
    "print('Test score is :' + str(r2_test))"
   ]
  },
  {
   "cell_type": "code",
   "execution_count": 24,
   "id": "93f52ceb",
   "metadata": {},
   "outputs": [],
   "source": [
    "Y_train_pred = dtc.predict(X_train)\n",
    "Y_test_pred = dtc.predict(X_test)"
   ]
  },
  {
   "cell_type": "code",
   "execution_count": 25,
   "id": "0cc8d927",
   "metadata": {},
   "outputs": [],
   "source": [
    "conf_data_train = confusion_matrix(Y_train,Y_train_pred)\n",
    "conf_data_test  = confusion_matrix(Y_test,Y_test_pred)"
   ]
  },
  {
   "cell_type": "code",
   "execution_count": 26,
   "id": "97322442",
   "metadata": {},
   "outputs": [
    {
     "data": {
      "image/png": "[encoded data removed]",
      "text/plain": [
       "<Figure size 1296x432 with 4 Axes>"
      ]
     },
     "metadata": {
      "needs_background": "light"
     },
     "output_type": "display_data"
    }
   ],
   "source": [
    "fig, ax = plt.subplots(1,2,figsize= (18,6))\n",
    "sns.heatmap(conf_data_train, ax = ax[0], annot=True)\n",
    "sns.heatmap(conf_data_test,  ax = ax[1], annot=True)\n",
    "\n",
    "ax[0].tick_params(axis='both',labelsize=16)\n",
    "ax[0].set_xlabel('Measured', fontsize= 18)\n",
    "ax[0].set_ylabel('Predicted', fontsize= 18)\n",
    "ax[0].set_title('Train Set',fontsize= 22)\n",
    "\n",
    "ax[1].tick_params(axis='both',labelsize=16)\n",
    "ax[1].set_xlabel('Measured', fontsize= 18)\n",
    "ax[1].set_ylabel('Predicted', fontsize= 18)\n",
    "ax[1].set_title('Test Set',fontsize= 22);"
   ]
  },
  {
   "cell_type": "code",
   "execution_count": 27,
   "id": "8463863f",
   "metadata": {},
   "outputs": [
    {
     "name": "stdout",
     "output_type": "stream",
     "text": [
      "****************************************************************************************************\n"
     ]
    }
   ],
   "source": [
    "conf_train_norm = np.zeros_like(conf_data_train, dtype=float)\n",
    "conf_test_norm = np.zeros_like(conf_data_test, dtype=float)\n",
    "\n",
    "sum_vec_train = np.sum(conf_data_train, axis = 1)\n",
    "sum_vec_test  = np.sum(conf_data_test , axis = 1)\n",
    "\n",
    "print('*'*100)\n",
    "\n",
    "for irow in range(conf_train_norm.shape[0]):\n",
    "    \n",
    "    conf_train_norm[irow,:] = 100 * np.round(conf_data_train[irow,:]/sum_vec_train[irow],2)\n",
    "    conf_test_norm[irow,:]  = 100 * np.round(conf_data_test[irow,:]/sum_vec_test[irow],2)"
   ]
  },
  {
   "cell_type": "code",
   "execution_count": 29,
   "id": "cadd8393",
   "metadata": {},
   "outputs": [
    {
     "data": {
      "image/png": "[encoded data removed]",
      "text/plain": [
       "<Figure size 1296x432 with 4 Axes>"
      ]
     },
     "metadata": {
      "needs_background": "light"
     },
     "output_type": "display_data"
    }
   ],
   "source": [
    "fig, ax = plt.subplots(1,2,figsize= (18,6))\n",
    "sns.heatmap(conf_train_norm, ax = ax[0], annot=True)\n",
    "sns.heatmap(conf_test_norm,  ax = ax[1], annot=True)\n",
    "\n",
    "ax[0].tick_params(axis='both',labelsize=16)\n",
    "ax[0].set_xlabel('Measured', fontsize= 18)\n",
    "ax[0].set_ylabel('Predicted', fontsize= 18)\n",
    "ax[0].set_title('Train Set (Percent)',fontsize= 22)\n",
    "\n",
    "ax[1].tick_params(axis='both',labelsize=16)\n",
    "ax[1].set_xlabel('Measured', fontsize= 18)\n",
    "ax[1].set_ylabel('Predicted', fontsize= 18)\n",
    "ax[1].set_title('Test Set (Percent)',fontsize= 22);"
   ]
  }
 ],
 "metadata": {
  "kernelspec": {
   "display_name": "Python 3 (ipykernel)",
   "language": "python",
   "name": "python3"
  },
  "language_info": {
   "codemirror_mode": {
    "name": "ipython",
    "version": 3
   },
   "file_extension": ".py",
   "mimetype": "text/x-python",
   "name": "python",
   "nbconvert_exporter": "python",
   "pygments_lexer": "ipython3",
   "version": "3.9.12"
  }
 },
 "nbformat": 4,
 "nbformat_minor": 5
}
