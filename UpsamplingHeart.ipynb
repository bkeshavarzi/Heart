{
 "cells": [
  {
   "cell_type": "code",
   "execution_count": 1,
   "id": "21e4bca0",
   "metadata": {},
   "outputs": [],
   "source": [
    "import numpy as np\n",
    "import pandas as pd\n",
    "import matplotlib.pyplot as plt\n",
    "import seaborn as sns \n",
    "import time\n",
    "import sklearn\n",
    "import scipy"
   ]
  },
  {
   "cell_type": "code",
   "execution_count": 2,
   "id": "54609fe7",
   "metadata": {},
   "outputs": [],
   "source": [
    "from sklearn.model_selection import train_test_split, GridSearchCV, cross_val_score\n",
    "from sklearn.metrics import confusion_matrix\n",
    "from sklearn.pipeline import make_pipeline\n",
    "from sklearn.model_selection import RepeatedStratifiedKFold\n",
    "from sklearn.linear_model import LogisticRegression\n",
    "from sklearn.tree import DecisionTreeClassifier\n",
    "from sklearn.ensemble import RandomForestClassifier, GradientBoostingClassifier\n",
    "from sklearn.discriminant_analysis import LinearDiscriminantAnalysis, QuadraticDiscriminantAnalysis\n",
    "from sklearn.naive_bayes import GaussianNB\n",
    "from sklearn import svm\n",
    "from xgboost import XGBClassifier\n",
    "from sklearn.neighbors import KNeighborsClassifier\n",
    "from sklearn.ensemble import StackingClassifier\n",
    "from imblearn.over_sampling import SMOTE"
   ]
  },
  {
   "cell_type": "code",
   "execution_count": 3,
   "id": "e1c212aa",
   "metadata": {},
   "outputs": [],
   "source": [
    "from PlottingFunction import lda_1Dplot, plotModel, data_1Dplot\n",
    "from Classification import model_fit, plot_confusion_matrix, model_fit2"
   ]
  },
  {
   "cell_type": "code",
   "execution_count": 4,
   "id": "153a7c7b",
   "metadata": {},
   "outputs": [],
   "source": [
    "from sklearn.preprocessing import StandardScaler"
   ]
  },
  {
   "cell_type": "code",
   "execution_count": 5,
   "id": "fc25bcc0",
   "metadata": {},
   "outputs": [],
   "source": [
    "heart = pd.read_csv('FinalHeart.csv')\n",
    "heart.drop(['Unnamed: 0'],axis=1,inplace=True)"
   ]
  },
  {
   "cell_type": "code",
   "execution_count": 6,
   "id": "a4b92bc8",
   "metadata": {},
   "outputs": [
    {
     "data": {
      "image/png": "[encoded data removed]",
      "text/plain": [
       "<Figure size 864x576 with 1 Axes>"
      ]
     },
     "metadata": {
      "needs_background": "light"
     },
     "output_type": "display_data"
    }
   ],
   "source": [
    "fig, ax = plt.subplots(1,1,figsize=(12,8))\n",
    "sns.histplot(data = heart, x = 'num', ax = ax, color = 'cyan');"
   ]
  },
  {
   "cell_type": "code",
   "execution_count": 7,
   "id": "3b024fcf",
   "metadata": {},
   "outputs": [],
   "source": [
    "heart_num0 = heart.loc[heart.num==0,:].copy()\n",
    "heart_num1 = heart.loc[heart.num==1,:].copy()\n",
    "heart_num2 = heart.loc[heart.num==2,:].copy()\n",
    "heart_num3 = heart.loc[heart.num==3,:].copy()\n",
    "heart_num4 = heart.loc[heart.num==4,:].copy()"
   ]
  },
  {
   "cell_type": "code",
   "execution_count": 8,
   "id": "a4f372d4",
   "metadata": {},
   "outputs": [],
   "source": [
    "from sklearn.utils import resample"
   ]
  },
  {
   "cell_type": "code",
   "execution_count": 9,
   "id": "8de2fd21",
   "metadata": {},
   "outputs": [],
   "source": [
    "heart_num1 = resample(heart_num1, replace=True, n_samples=360, random_state = 144) \n",
    "heart_num2 = resample(heart_num2, replace=True, n_samples=360, random_state = 144) \n",
    "heart_num3 = resample(heart_num3, replace=True, n_samples=360, random_state = 144) \n",
    "heart_num4 = resample(heart_num4, replace=True,      n_samples=360,    random_state=144) "
   ]
  },
  {
   "cell_type": "code",
   "execution_count": 10,
   "id": "de03d440",
   "metadata": {},
   "outputs": [
    {
     "name": "stdout",
     "output_type": "stream",
     "text": [
      "360\n",
      "360\n",
      "360\n",
      "360\n",
      "360\n"
     ]
    }
   ],
   "source": [
    "print(heart_num0.shape[0])\n",
    "print(heart_num1.shape[0])\n",
    "print(heart_num2.shape[0])\n",
    "print(heart_num3.shape[0])\n",
    "print(heart_num4.shape[0])"
   ]
  },
  {
   "cell_type": "code",
   "execution_count": 11,
   "id": "d00eddbd",
   "metadata": {},
   "outputs": [],
   "source": [
    "heart_up = pd.concat([heart_num0,heart_num1,heart_num2,heart_num3,heart_num4])"
   ]
  },
  {
   "cell_type": "code",
   "execution_count": 12,
   "id": "4b21db77",
   "metadata": {},
   "outputs": [
    {
     "data": {
      "text/plain": [
       "(1800, 14)"
      ]
     },
     "execution_count": 12,
     "metadata": {},
     "output_type": "execute_result"
    }
   ],
   "source": [
    "heart_up.shape"
   ]
  },
  {
   "cell_type": "code",
   "execution_count": 13,
   "id": "017f3173",
   "metadata": {},
   "outputs": [],
   "source": [
    "X = heart_up.drop(['num'],axis=1).copy()\n",
    "Y = heart_up.num.copy()"
   ]
  },
  {
   "cell_type": "code",
   "execution_count": 14,
   "id": "e0038d0d",
   "metadata": {},
   "outputs": [],
   "source": [
    "X_train, X_test, Y_train, Y_test = train_test_split(X,Y, test_size= 0.33, stratify=Y, shuffle=True)"
   ]
  },
  {
   "cell_type": "code",
   "execution_count": 15,
   "id": "b541bc0c",
   "metadata": {},
   "outputs": [],
   "source": [
    "SC = StandardScaler()\n",
    "X_scaled = SC.fit_transform(X)"
   ]
  },
  {
   "cell_type": "code",
   "execution_count": 16,
   "id": "739a39da",
   "metadata": {},
   "outputs": [],
   "source": [
    "X_train_scaled, X_test_scaled, Y_train, Y_test = train_test_split(X_scaled, Y, test_size=0.33, random_state=144, shuffle=True, stratify=Y)"
   ]
  },
  {
   "cell_type": "code",
   "execution_count": 17,
   "id": "e9650e30",
   "metadata": {},
   "outputs": [
    {
     "name": "stdout",
     "output_type": "stream",
     "text": [
      "LogisticRegression\n",
      "Train score is :0.272\n",
      "Test score is :0.192\n",
      "LogisticRegression\n",
      "Train score is :0.478\n",
      "Test score is :0.455\n",
      "RandomForestClassifier\n",
      "Train score is :1.0\n",
      "Test score is :0.934\n"
     ]
    }
   ],
   "source": [
    "glm = LogisticRegression(max_iter = 1e7)\n",
    "model_fit2(glm, X_train, X_test, Y_train, Y_test)\n",
    "\n",
    "glm = LogisticRegression(max_iter = 1e7)\n",
    "model_fit2(glm, X_train_scaled, X_test_scaled, Y_train, Y_test)\n",
    "#plot_confusion_matrix(glm, X_train_scaled, X_test_scaled, Y_train, Y_test)\n",
    "\n",
    "rfc = RandomForestClassifier()\n",
    "model_fit2(rfc, X_train_scaled, X_test_scaled, Y_train, Y_test)\n",
    "#plot_confusion_matrix(rfc, X_train_scaled, X_test_scaled, Y_train, Y_test)"
   ]
  },
  {
   "cell_type": "code",
   "execution_count": null,
   "id": "9da4b09e",
   "metadata": {},
   "outputs": [],
   "source": [
    "X_original = heart.drop(['num'],axis=1).copy()\n",
    "Y_original = heart.num.copy()\n",
    "\n",
    "X_original_scaled = SC.fit_transform(X_original)\n",
    "\n",
    "X_train_original, X_test_original, Y_train_original, Y_test_original = train_test_split(X_original_scaled, Y_original,\n",
    "            test_size=0.33, random_state=144, shuffle=True, stratify = Y_original)\n",
    "\n",
    "print(rfc.score(X_train_original, Y_train_original))\n",
    "print(rfc.score(X_test_original, Y_test_original))\n",
    "plot_confusion_matrix(rfc, X_train_original, X_test_original, Y_train_original, Y_test_original)"
   ]
  },
  {
   "cell_type": "code",
   "execution_count": null,
   "id": "13605956",
   "metadata": {},
   "outputs": [],
   "source": [
    "LDA = LinearDiscriminantAnalysis()\n",
    "model_fit2(LDA, X_train_scaled, X_test_scaled, Y_train, Y_test)"
   ]
  },
  {
   "cell_type": "code",
   "execution_count": null,
   "id": "c2503b9f",
   "metadata": {},
   "outputs": [],
   "source": [
    "QDA = QuadraticDiscriminantAnalysis()\n",
    "QDA.set_params(reg_param = 0.4)\n",
    "model_fit2(QDA, X_train_scaled, X_test_scaled, Y_train, Y_test)"
   ]
  },
  {
   "cell_type": "code",
   "execution_count": null,
   "id": "564786c1",
   "metadata": {},
   "outputs": [],
   "source": [
    "GNB = GaussianNB()\n",
    "model_fit2(GNB, X_train_scaled, X_test_scaled, Y_train, Y_test)"
   ]
  },
  {
   "cell_type": "code",
   "execution_count": null,
   "id": "b92e1979",
   "metadata": {},
   "outputs": [],
   "source": [
    "gbc = GradientBoostingClassifier()\n",
    "#gbc.set_params(random_state = 144, n_estimators = 5000, max_features = 5, max_depth = 5, min_samples_split = 25, \n",
    "              #min_weight_fraction_leaf = 0.05, ccp_alpha = 1e-2)\n",
    "model_fit2(gbc, X_train_scaled, X_test_scaled, Y_train, Y_test)"
   ]
  },
  {
   "cell_type": "code",
   "execution_count": null,
   "id": "2e53ecfb",
   "metadata": {},
   "outputs": [],
   "source": [
    "print(gbc.score(X_train_original, Y_train_original))\n",
    "print(gbc.score(X_test_original, Y_test_original))\n",
    "plot_confusion_matrix(gbc, X_train_original, X_test_original, Y_train_original, Y_test_original)"
   ]
  },
  {
   "cell_type": "code",
   "execution_count": null,
   "id": "e58f440c",
   "metadata": {},
   "outputs": [],
   "source": [
    "xgb_cl = XGBClassifier()\n",
    "xgb_cl.set_params(random_state=144)\n",
    "model_fit2(xgb_cl, X_train_scaled, X_test_scaled, Y_train, Y_test)\n",
    "plot_confusion_matrix(xgb_cl, X_train_original, X_test_original, Y_train_original, Y_test_original)"
   ]
  },
  {
   "cell_type": "code",
   "execution_count": null,
   "id": "16eeb784",
   "metadata": {},
   "outputs": [],
   "source": [
    "print(xgb_cl.score(X_train_original, Y_train_original))\n",
    "print(xgb_cl.score(X_test_original, Y_test_original))"
   ]
  },
  {
   "cell_type": "code",
   "execution_count": null,
   "id": "4b3e6d27",
   "metadata": {},
   "outputs": [],
   "source": [
    "oversample = SMOTE()"
   ]
  },
  {
   "cell_type": "code",
   "execution_count": null,
   "id": "ee8ffd2d",
   "metadata": {},
   "outputs": [],
   "source": [
    "oversample.get_params()"
   ]
  },
  {
   "cell_type": "code",
   "execution_count": null,
   "id": "7a0624e2",
   "metadata": {},
   "outputs": [],
   "source": [
    "X_temp, Y_temp = oversample.fit_resample(X_original, Y_original)"
   ]
  },
  {
   "cell_type": "code",
   "execution_count": null,
   "id": "6352675a",
   "metadata": {},
   "outputs": [],
   "source": [
    "X_original.shape"
   ]
  },
  {
   "cell_type": "code",
   "execution_count": null,
   "id": "c7664da2",
   "metadata": {},
   "outputs": [],
   "source": [
    "X_temp.shape"
   ]
  },
  {
   "cell_type": "code",
   "execution_count": null,
   "id": "10a3113d",
   "metadata": {},
   "outputs": [],
   "source": [
    "print(str(X_original.loc[Y_original==0,:].shape[0]) + \" \" + str(X_temp.loc[Y_temp==0,:].shape[0]))\n",
    "print(str(X_original.loc[Y_original==1,:].shape[0]) + \" \" + str(X_temp.loc[Y_temp==1,:].shape[0]))\n",
    "print(str(X_original.loc[Y_original==2,:].shape[0]) + \" \" + str(X_temp.loc[Y_temp==2,:].shape[0]))\n",
    "print(str(X_original.loc[Y_original==3,:].shape[0]) + \" \" + str(X_temp.loc[Y_temp==3,:].shape[0]))\n",
    "print(str(X_original.loc[Y_original==4,:].shape[0]) + \" \" + str(X_temp.loc[Y_temp==4,:].shape[0]))"
   ]
  },
  {
   "cell_type": "code",
   "execution_count": null,
   "id": "71ada935",
   "metadata": {},
   "outputs": [],
   "source": [
    "X_train_temp, X_test_temp, Y_train_temp, Y_test_temp = train_test_split(X_temp, Y_temp, test_size=0.33, \n",
    "                                                                  random_state=144, shuffle=True, stratify=Y)"
   ]
  },
  {
   "cell_type": "code",
   "execution_count": null,
   "id": "7339160c",
   "metadata": {},
   "outputs": [],
   "source": [
    "glm = LogisticRegression(max_iter = 1e7)\n",
    "model_fit2(glm, X_train_temp, X_test_temp, Y_train_temp, Y_test_temp)\n",
    "#plot_confusion_matrix(glm, X_train_scaled, X_test_scaled, Y_train, Y_test)\n",
    "\n",
    "rfc = RandomForestClassifier()\n",
    "model_fit2(rfc, X_train_temp, X_test_temp, Y_train_temp, Y_test_temp)\n",
    "#plot_confusion_matrix(rfc, X_train_scaled, X_test_scaled, Y_train, Y_test)"
   ]
  },
  {
   "cell_type": "code",
   "execution_count": null,
   "id": "b1bc759a",
   "metadata": {},
   "outputs": [],
   "source": [
    "X_train_original, X_test_original, Y_train_original, Y_test_original = train_test_split(X_original, Y_original,\n",
    "            test_size=0.33, random_state=144, shuffle=True, stratify = Y_original)\n",
    "print(rfc.score(X_train_original, Y_train_original))\n",
    "print(rfc.score(X_test_original, Y_test_original))"
   ]
  },
  {
   "cell_type": "code",
   "execution_count": null,
   "id": "10003fa7",
   "metadata": {},
   "outputs": [],
   "source": []
  }
 ],
 "metadata": {
  "kernelspec": {
   "display_name": "Python 3 (ipykernel)",
   "language": "python",
   "name": "python3"
  },
  "language_info": {
   "codemirror_mode": {
    "name": "ipython",
    "version": 3
   },
   "file_extension": ".py",
   "mimetype": "text/x-python",
   "name": "python",
   "nbconvert_exporter": "python",
   "pygments_lexer": "ipython3",
   "version": "3.9.12"
  }
 },
 "nbformat": 4,
 "nbformat_minor": 5
}
