{
 "cells": [
  {
   "cell_type": "code",
   "execution_count": 1,
   "id": "070a1358",
   "metadata": {},
   "outputs": [],
   "source": [
    "import numpy as np\n",
    "import pandas as pd\n",
    "import matplotlib.pyplot as plt\n",
    "import seaborn as sns \n",
    "import time\n",
    "import sklearn\n",
    "import scipy"
   ]
  },
  {
   "cell_type": "code",
   "execution_count": 2,
   "id": "8a1e2e93",
   "metadata": {},
   "outputs": [],
   "source": [
    "from sklearn.ensemble import RandomForestClassifier\n",
    "from sklearn.model_selection import train_test_split\n",
    "from sklearn.model_selection import GridSearchCV, cross_val_score\n",
    "from sklearn.metrics import confusion_matrix"
   ]
  },
  {
   "cell_type": "code",
   "execution_count": 3,
   "id": "d09a7274",
   "metadata": {},
   "outputs": [
    {
     "data": {
      "text/html": [
       "<div>\n",
       "<style scoped>\n",
       "    .dataframe tbody tr th:only-of-type {\n",
       "        vertical-align: middle;\n",
       "    }\n",
       "\n",
       "    .dataframe tbody tr th {\n",
       "        vertical-align: top;\n",
       "    }\n",
       "\n",
       "    .dataframe thead th {\n",
       "        text-align: right;\n",
       "    }\n",
       "</style>\n",
       "<table border=\"1\" class=\"dataframe\">\n",
       "  <thead>\n",
       "    <tr style=\"text-align: right;\">\n",
       "      <th></th>\n",
       "      <th>age</th>\n",
       "      <th>sex</th>\n",
       "      <th>cp</th>\n",
       "      <th>trestbps</th>\n",
       "      <th>chol</th>\n",
       "      <th>fbs</th>\n",
       "      <th>restecg</th>\n",
       "      <th>thalach</th>\n",
       "      <th>exang</th>\n",
       "      <th>oldpeak</th>\n",
       "      <th>slope</th>\n",
       "      <th>ca</th>\n",
       "      <th>thal</th>\n",
       "      <th>num</th>\n",
       "    </tr>\n",
       "  </thead>\n",
       "  <tbody>\n",
       "    <tr>\n",
       "      <th>0</th>\n",
       "      <td>63.0</td>\n",
       "      <td>1.0</td>\n",
       "      <td>1.0</td>\n",
       "      <td>145.0</td>\n",
       "      <td>233.0</td>\n",
       "      <td>1.0</td>\n",
       "      <td>2.0</td>\n",
       "      <td>150.0</td>\n",
       "      <td>0.0</td>\n",
       "      <td>2.3</td>\n",
       "      <td>3.0</td>\n",
       "      <td>0.0</td>\n",
       "      <td>6.0</td>\n",
       "      <td>0.0</td>\n",
       "    </tr>\n",
       "    <tr>\n",
       "      <th>1</th>\n",
       "      <td>67.0</td>\n",
       "      <td>1.0</td>\n",
       "      <td>4.0</td>\n",
       "      <td>160.0</td>\n",
       "      <td>286.0</td>\n",
       "      <td>0.0</td>\n",
       "      <td>2.0</td>\n",
       "      <td>108.0</td>\n",
       "      <td>1.0</td>\n",
       "      <td>1.5</td>\n",
       "      <td>2.0</td>\n",
       "      <td>3.0</td>\n",
       "      <td>3.0</td>\n",
       "      <td>2.0</td>\n",
       "    </tr>\n",
       "    <tr>\n",
       "      <th>2</th>\n",
       "      <td>67.0</td>\n",
       "      <td>1.0</td>\n",
       "      <td>4.0</td>\n",
       "      <td>120.0</td>\n",
       "      <td>229.0</td>\n",
       "      <td>0.0</td>\n",
       "      <td>2.0</td>\n",
       "      <td>129.0</td>\n",
       "      <td>1.0</td>\n",
       "      <td>2.6</td>\n",
       "      <td>2.0</td>\n",
       "      <td>2.0</td>\n",
       "      <td>7.0</td>\n",
       "      <td>1.0</td>\n",
       "    </tr>\n",
       "  </tbody>\n",
       "</table>\n",
       "</div>"
      ],
      "text/plain": [
       "    age  sex   cp  trestbps   chol  fbs  restecg  thalach  exang  oldpeak  \\\n",
       "0  63.0  1.0  1.0     145.0  233.0  1.0      2.0    150.0    0.0      2.3   \n",
       "1  67.0  1.0  4.0     160.0  286.0  0.0      2.0    108.0    1.0      1.5   \n",
       "2  67.0  1.0  4.0     120.0  229.0  0.0      2.0    129.0    1.0      2.6   \n",
       "\n",
       "   slope   ca  thal  num  \n",
       "0    3.0  0.0   6.0  0.0  \n",
       "1    2.0  3.0   3.0  2.0  \n",
       "2    2.0  2.0   7.0  1.0  "
      ]
     },
     "execution_count": 3,
     "metadata": {},
     "output_type": "execute_result"
    }
   ],
   "source": [
    "heart = pd.read_csv('FinalHeart.csv')\n",
    "heart.drop(['Unnamed: 0'],axis=1,inplace=True)\n",
    "heart.head(3)"
   ]
  },
  {
   "cell_type": "code",
   "execution_count": 4,
   "id": "7bbbf7a2",
   "metadata": {},
   "outputs": [],
   "source": [
    "X = heart.drop(['num'],axis=1).copy()\n",
    "Y = heart.num.copy()"
   ]
  },
  {
   "cell_type": "code",
   "execution_count": 5,
   "id": "9e8c12b3",
   "metadata": {},
   "outputs": [],
   "source": [
    "X_train, X_test, Y_train, Y_test = train_test_split(X,Y, test_size= 0.33, stratify=Y)"
   ]
  },
  {
   "cell_type": "code",
   "execution_count": 6,
   "id": "68855a80",
   "metadata": {},
   "outputs": [],
   "source": [
    "rfc = RandomForestClassifier()"
   ]
  },
  {
   "cell_type": "code",
   "execution_count": 7,
   "id": "1ec0aff9",
   "metadata": {},
   "outputs": [
    {
     "data": {
      "text/plain": [
       "{'bootstrap': True,\n",
       " 'ccp_alpha': 0.0,\n",
       " 'class_weight': None,\n",
       " 'criterion': 'gini',\n",
       " 'max_depth': None,\n",
       " 'max_features': 'auto',\n",
       " 'max_leaf_nodes': None,\n",
       " 'max_samples': None,\n",
       " 'min_impurity_decrease': 0.0,\n",
       " 'min_samples_leaf': 1,\n",
       " 'min_samples_split': 2,\n",
       " 'min_weight_fraction_leaf': 0.0,\n",
       " 'n_estimators': 100,\n",
       " 'n_jobs': None,\n",
       " 'oob_score': False,\n",
       " 'random_state': None,\n",
       " 'verbose': 0,\n",
       " 'warm_start': False}"
      ]
     },
     "execution_count": 7,
     "metadata": {},
     "output_type": "execute_result"
    }
   ],
   "source": [
    "rfc.get_params()"
   ]
  },
  {
   "cell_type": "code",
   "execution_count": 8,
   "id": "09ae8619",
   "metadata": {},
   "outputs": [
    {
     "name": "stdout",
     "output_type": "stream",
     "text": [
      "CPU times: total: 578 ms\n",
      "Wall time: 600 ms\n",
      "Train score is :1.0\n",
      "Test score is :0.634\n"
     ]
    }
   ],
   "source": [
    "rfc.set_params( n_estimators = 500)\n",
    "%time rfc.fit(X_train, Y_train)\n",
    "r2_train = np.round(rfc.score(X_train, Y_train),3)\n",
    "r2_test  = np.round(rfc.score(X_test, Y_test),3)\n",
    "print('Train score is :' + str(r2_train))\n",
    "print('Test score is :' + str(r2_test))"
   ]
  },
  {
   "cell_type": "code",
   "execution_count": 9,
   "id": "aac5c4b5",
   "metadata": {},
   "outputs": [],
   "source": [
    "criterion      = ['gini','entropy']\n",
    "max_depth      = np.arange(1,20, 5)\n",
    "max_features   = list(np.arange(1,14,2))\n",
    "min_samples_split = np.arange(2,20,5)\n",
    "\n",
    "n_estimators  = 500\n",
    "n_jobs = -1\n",
    "random_state = 144"
   ]
  },
  {
   "cell_type": "code",
   "execution_count": 10,
   "id": "9b98e2cf",
   "metadata": {},
   "outputs": [],
   "source": [
    "import warnings\n",
    "warnings.filterwarnings('ignore')"
   ]
  },
  {
   "cell_type": "code",
   "execution_count": 11,
   "id": "c3925edb",
   "metadata": {},
   "outputs": [
    {
     "name": "stdout",
     "output_type": "stream",
     "text": [
      "CPU times: total: 7min 22s\n",
      "Wall time: 7min 23s\n"
     ]
    },
    {
     "data": {
      "text/plain": [
       "GridSearchCV(cv=3,\n",
       "             estimator=RandomForestClassifier(n_estimators=500,\n",
       "                                              random_state=144),\n",
       "             param_grid={'criterion': ['gini', 'entropy'],\n",
       "                         'max_depth': array([ 1,  6, 11, 16]),\n",
       "                         'max_features': [1, 3, 5, 7, 9, 11, 13],\n",
       "                         'min_samples_split': array([ 2,  7, 12, 17])},\n",
       "             return_train_score=True)"
      ]
     },
     "execution_count": 11,
     "metadata": {},
     "output_type": "execute_result"
    }
   ],
   "source": [
    "rfc_grid = RandomForestClassifier()\n",
    "rfc_grid.set_params(random_state = 144, n_estimators  = 500)\n",
    "\n",
    "param_grid = {'criterion':criterion, 'max_depth':max_depth, 'max_features':max_features,\n",
    "              'min_samples_split':min_samples_split}\n",
    "\n",
    "rfc_grid = GridSearchCV(rfc_grid, param_grid, cv = 3, return_train_score=True)\n",
    "\n",
    "%time rfc_grid.fit(X_train, Y_train)"
   ]
  },
  {
   "cell_type": "code",
   "execution_count": 12,
   "id": "dc7cd25d",
   "metadata": {},
   "outputs": [
    {
     "data": {
      "text/plain": [
       "(224, 20)"
      ]
     },
     "execution_count": 12,
     "metadata": {},
     "output_type": "execute_result"
    }
   ],
   "source": [
    "rfc_df = pd.DataFrame(rfc_grid.cv_results_)\n",
    "rfc_df.shape"
   ]
  },
  {
   "cell_type": "code",
   "execution_count": 13,
   "id": "40e70303",
   "metadata": {},
   "outputs": [],
   "source": [
    "rfc_df.dropna(axis=0,how='any',inplace=True)"
   ]
  },
  {
   "cell_type": "code",
   "execution_count": 14,
   "id": "042a2119",
   "metadata": {},
   "outputs": [
    {
     "data": {
      "text/plain": [
       "(224, 20)"
      ]
     },
     "execution_count": 14,
     "metadata": {},
     "output_type": "execute_result"
    }
   ],
   "source": [
    "rfc_df.shape"
   ]
  },
  {
   "cell_type": "code",
   "execution_count": 15,
   "id": "3917d08b",
   "metadata": {},
   "outputs": [],
   "source": [
    "rfc_final_df = rfc_df.loc[:,['param_criterion','param_max_depth','param_max_features',\n",
    "                            'param_min_samples_split','mean_train_score','mean_test_score']]"
   ]
  },
  {
   "cell_type": "code",
   "execution_count": 16,
   "id": "c3e8f77b",
   "metadata": {},
   "outputs": [],
   "source": [
    "rfc_final_df.to_csv('rfc_final.csv')"
   ]
  },
  {
   "cell_type": "code",
   "execution_count": 17,
   "id": "ba6dc171",
   "metadata": {},
   "outputs": [
    {
     "data": {
      "text/plain": [
       "mean_train_score    1.000000\n",
       "mean_test_score     0.670173\n",
       "dtype: float64"
      ]
     },
     "execution_count": 17,
     "metadata": {},
     "output_type": "execute_result"
    }
   ],
   "source": [
    "rfc_final_df.loc[:,['mean_train_score','mean_test_score']].max()"
   ]
  },
  {
   "cell_type": "code",
   "execution_count": 18,
   "id": "27c46472",
   "metadata": {},
   "outputs": [],
   "source": [
    "rfc_final_df['diff'] = abs(rfc_final_df.mean_train_score - rfc_final_df.mean_test_score)"
   ]
  },
  {
   "cell_type": "code",
   "execution_count": 26,
   "id": "afe966d8",
   "metadata": {},
   "outputs": [
    {
     "data": {
      "text/html": [
       "<div>\n",
       "<style scoped>\n",
       "    .dataframe tbody tr th:only-of-type {\n",
       "        vertical-align: middle;\n",
       "    }\n",
       "\n",
       "    .dataframe tbody tr th {\n",
       "        vertical-align: top;\n",
       "    }\n",
       "\n",
       "    .dataframe thead th {\n",
       "        text-align: right;\n",
       "    }\n",
       "</style>\n",
       "<table border=\"1\" class=\"dataframe\">\n",
       "  <thead>\n",
       "    <tr style=\"text-align: right;\">\n",
       "      <th></th>\n",
       "      <th>param_criterion</th>\n",
       "      <th>param_max_depth</th>\n",
       "      <th>param_max_features</th>\n",
       "      <th>param_min_samples_split</th>\n",
       "      <th>mean_train_score</th>\n",
       "      <th>mean_test_score</th>\n",
       "      <th>diff</th>\n",
       "    </tr>\n",
       "  </thead>\n",
       "  <tbody>\n",
       "    <tr>\n",
       "      <th>103</th>\n",
       "      <td>gini</td>\n",
       "      <td>16</td>\n",
       "      <td>9</td>\n",
       "      <td>17</td>\n",
       "      <td>0.790452</td>\n",
       "      <td>0.643207</td>\n",
       "      <td>0.147245</td>\n",
       "    </tr>\n",
       "    <tr>\n",
       "      <th>75</th>\n",
       "      <td>gini</td>\n",
       "      <td>11</td>\n",
       "      <td>9</td>\n",
       "      <td>17</td>\n",
       "      <td>0.789413</td>\n",
       "      <td>0.645277</td>\n",
       "      <td>0.144136</td>\n",
       "    </tr>\n",
       "    <tr>\n",
       "      <th>58</th>\n",
       "      <td>gini</td>\n",
       "      <td>11</td>\n",
       "      <td>1</td>\n",
       "      <td>12</td>\n",
       "      <td>0.789436</td>\n",
       "      <td>0.647360</td>\n",
       "      <td>0.142076</td>\n",
       "    </tr>\n",
       "    <tr>\n",
       "      <th>86</th>\n",
       "      <td>gini</td>\n",
       "      <td>16</td>\n",
       "      <td>1</td>\n",
       "      <td>12</td>\n",
       "      <td>0.786321</td>\n",
       "      <td>0.645277</td>\n",
       "      <td>0.141044</td>\n",
       "    </tr>\n",
       "    <tr>\n",
       "      <th>211</th>\n",
       "      <td>entropy</td>\n",
       "      <td>16</td>\n",
       "      <td>7</td>\n",
       "      <td>17</td>\n",
       "      <td>0.782160</td>\n",
       "      <td>0.643207</td>\n",
       "      <td>0.138954</td>\n",
       "    </tr>\n",
       "    <tr>\n",
       "      <th>...</th>\n",
       "      <td>...</td>\n",
       "      <td>...</td>\n",
       "      <td>...</td>\n",
       "      <td>...</td>\n",
       "      <td>...</td>\n",
       "      <td>...</td>\n",
       "      <td>...</td>\n",
       "    </tr>\n",
       "    <tr>\n",
       "      <th>138</th>\n",
       "      <td>entropy</td>\n",
       "      <td>1</td>\n",
       "      <td>13</td>\n",
       "      <td>12</td>\n",
       "      <td>0.607896</td>\n",
       "      <td>0.607932</td>\n",
       "      <td>0.000036</td>\n",
       "    </tr>\n",
       "    <tr>\n",
       "      <th>27</th>\n",
       "      <td>gini</td>\n",
       "      <td>1</td>\n",
       "      <td>13</td>\n",
       "      <td>17</td>\n",
       "      <td>0.607896</td>\n",
       "      <td>0.607932</td>\n",
       "      <td>0.000036</td>\n",
       "    </tr>\n",
       "    <tr>\n",
       "      <th>136</th>\n",
       "      <td>entropy</td>\n",
       "      <td>1</td>\n",
       "      <td>13</td>\n",
       "      <td>2</td>\n",
       "      <td>0.607896</td>\n",
       "      <td>0.607932</td>\n",
       "      <td>0.000036</td>\n",
       "    </tr>\n",
       "    <tr>\n",
       "      <th>137</th>\n",
       "      <td>entropy</td>\n",
       "      <td>1</td>\n",
       "      <td>13</td>\n",
       "      <td>7</td>\n",
       "      <td>0.607896</td>\n",
       "      <td>0.607932</td>\n",
       "      <td>0.000036</td>\n",
       "    </tr>\n",
       "    <tr>\n",
       "      <th>26</th>\n",
       "      <td>gini</td>\n",
       "      <td>1</td>\n",
       "      <td>13</td>\n",
       "      <td>12</td>\n",
       "      <td>0.607896</td>\n",
       "      <td>0.607932</td>\n",
       "      <td>0.000036</td>\n",
       "    </tr>\n",
       "  </tbody>\n",
       "</table>\n",
       "<p>104 rows × 7 columns</p>\n",
       "</div>"
      ],
      "text/plain": [
       "    param_criterion param_max_depth param_max_features  \\\n",
       "103            gini              16                  9   \n",
       "75             gini              11                  9   \n",
       "58             gini              11                  1   \n",
       "86             gini              16                  1   \n",
       "211         entropy              16                  7   \n",
       "..              ...             ...                ...   \n",
       "138         entropy               1                 13   \n",
       "27             gini               1                 13   \n",
       "136         entropy               1                 13   \n",
       "137         entropy               1                 13   \n",
       "26             gini               1                 13   \n",
       "\n",
       "    param_min_samples_split  mean_train_score  mean_test_score      diff  \n",
       "103                      17          0.790452         0.643207  0.147245  \n",
       "75                       17          0.789413         0.645277  0.144136  \n",
       "58                       12          0.789436         0.647360  0.142076  \n",
       "86                       12          0.786321         0.645277  0.141044  \n",
       "211                      17          0.782160         0.643207  0.138954  \n",
       "..                      ...               ...              ...       ...  \n",
       "138                      12          0.607896         0.607932  0.000036  \n",
       "27                       17          0.607896         0.607932  0.000036  \n",
       "136                       2          0.607896         0.607932  0.000036  \n",
       "137                       7          0.607896         0.607932  0.000036  \n",
       "26                       12          0.607896         0.607932  0.000036  \n",
       "\n",
       "[104 rows x 7 columns]"
      ]
     },
     "execution_count": 26,
     "metadata": {},
     "output_type": "execute_result"
    }
   ],
   "source": [
    "rfc_final_df.sort_values(by='diff',ascending=False).iloc[120:,:]"
   ]
  },
  {
   "cell_type": "code",
   "execution_count": 20,
   "id": "2221781b",
   "metadata": {},
   "outputs": [
    {
     "name": "stdout",
     "output_type": "stream",
     "text": [
      "Training score is :0.73\n",
      "Testing  score is :0.64\n"
     ]
    }
   ],
   "source": [
    "print('Training score is :' + str(np.round(rfc_grid.best_estimator_.score(X_train, Y_train),2)))\n",
    "print('Testing  score is :' + str(np.round(rfc_grid.best_estimator_.score(X_test, Y_test),2)))"
   ]
  },
  {
   "cell_type": "code",
   "execution_count": 27,
   "id": "5109b37b",
   "metadata": {},
   "outputs": [
    {
     "data": {
      "text/plain": [
       "{'bootstrap': True,\n",
       " 'ccp_alpha': 0.0,\n",
       " 'class_weight': None,\n",
       " 'criterion': 'gini',\n",
       " 'max_depth': None,\n",
       " 'max_features': 'auto',\n",
       " 'max_leaf_nodes': None,\n",
       " 'max_samples': None,\n",
       " 'min_impurity_decrease': 0.0,\n",
       " 'min_samples_leaf': 1,\n",
       " 'min_samples_split': 2,\n",
       " 'min_weight_fraction_leaf': 0.0,\n",
       " 'n_estimators': 500,\n",
       " 'n_jobs': None,\n",
       " 'oob_score': False,\n",
       " 'random_state': None,\n",
       " 'verbose': 0,\n",
       " 'warm_start': False}"
      ]
     },
     "execution_count": 27,
     "metadata": {},
     "output_type": "execute_result"
    }
   ],
   "source": [
    "rfc.get_params()"
   ]
  },
  {
   "cell_type": "code",
   "execution_count": 52,
   "id": "70af59e6",
   "metadata": {},
   "outputs": [
    {
     "name": "stdout",
     "output_type": "stream",
     "text": [
      "CPU times: total: 125 ms\n",
      "Wall time: 124 ms\n",
      "Train score is :0.68\n",
      "Test score is :0.605\n",
      "[0.64596273 0.63354037 0.675     ]\n",
      "[0.6625     0.63291139 0.58227848]\n"
     ]
    }
   ],
   "source": [
    "rfc = RandomForestClassifier()\n",
    "rfc.set_params(criterion='gini', max_depth = 3, max_features = 12, min_samples_split = 15, random_state = 144)\n",
    "%time rfc.fit(X_train, Y_train)\n",
    "\n",
    "r2_train = np.round(rfc.score(X_train, Y_train),3)\n",
    "r2_test  = np.round(rfc.score(X_test, Y_test),3)\n",
    "print('Train score is :' + str(r2_train))\n",
    "print('Test score is :' + str(r2_test))\n",
    "\n",
    "print(cross_val_score(rfc, X_train, Y_train, cv = 3))\n",
    "print(cross_val_score(rfc, X_test, Y_test, cv = 3))"
   ]
  },
  {
   "cell_type": "code",
   "execution_count": 53,
   "id": "801bb26c",
   "metadata": {},
   "outputs": [],
   "source": [
    "conf_data_train = confusion_matrix(Y_train,rfc.predict(X_train))\n",
    "conf_data_test  = confusion_matrix(Y_test,rfc.predict(X_test))"
   ]
  },
  {
   "cell_type": "code",
   "execution_count": 54,
   "id": "72c05f6b",
   "metadata": {},
   "outputs": [
    {
     "data": {
      "image/png": "[encoded data removed]",
      "text/plain": [
       "<Figure size 1296x432 with 4 Axes>"
      ]
     },
     "metadata": {
      "needs_background": "light"
     },
     "output_type": "display_data"
    }
   ],
   "source": [
    "fig, ax = plt.subplots(1,2,figsize= (18,6))\n",
    "sns.heatmap(conf_data_train, ax = ax[0], annot=True)\n",
    "sns.heatmap(conf_data_test,  ax = ax[1], annot=True)\n",
    "\n",
    "ax[0].tick_params(axis='both',labelsize=16)\n",
    "ax[0].set_xlabel('Measured', fontsize= 18)\n",
    "ax[0].set_ylabel('Predicted', fontsize= 18)\n",
    "ax[0].set_title('Train Set',fontsize= 22)\n",
    "\n",
    "ax[1].tick_params(axis='both',labelsize=16)\n",
    "ax[1].set_xlabel('Measured', fontsize= 18)\n",
    "ax[1].set_ylabel('Predicted', fontsize= 18)\n",
    "ax[1].set_title('Test Set',fontsize= 22);"
   ]
  },
  {
   "cell_type": "code",
   "execution_count": 55,
   "id": "3dbb64ef",
   "metadata": {},
   "outputs": [
    {
     "name": "stdout",
     "output_type": "stream",
     "text": [
      "****************************************************************************************************\n"
     ]
    }
   ],
   "source": [
    "conf_train_norm = np.zeros_like(conf_data_train, dtype=float)\n",
    "conf_test_norm = np.zeros_like(conf_data_test, dtype=float)\n",
    "\n",
    "sum_vec_train = np.sum(conf_data_train, axis = 1)\n",
    "sum_vec_test  = np.sum(conf_data_test , axis = 1)\n",
    "\n",
    "print('*'*100)\n",
    "\n",
    "for irow in range(conf_train_norm.shape[0]):\n",
    "    \n",
    "    conf_train_norm[irow,:] = 100 * np.round(conf_data_train[irow,:]/sum_vec_train[irow],2)\n",
    "    conf_test_norm[irow,:]  = 100 * np.round(conf_data_test[irow,:]/sum_vec_test[irow],2)"
   ]
  },
  {
   "cell_type": "code",
   "execution_count": 56,
   "id": "2f39b3cc",
   "metadata": {},
   "outputs": [
    {
     "data": {
      "image/png": "[encoded data removed]",
      "text/plain": [
       "<Figure size 1296x432 with 4 Axes>"
      ]
     },
     "metadata": {
      "needs_background": "light"
     },
     "output_type": "display_data"
    }
   ],
   "source": [
    "fig, ax = plt.subplots(1,2,figsize= (18,6))\n",
    "sns.heatmap(conf_train_norm, ax = ax[0], annot=True)\n",
    "sns.heatmap(conf_test_norm,  ax = ax[1], annot=True)\n",
    "\n",
    "ax[0].tick_params(axis='both',labelsize=16)\n",
    "ax[0].set_xlabel('Measured', fontsize= 18)\n",
    "ax[0].set_ylabel('Predicted', fontsize= 18)\n",
    "ax[0].set_title('Train Set (Percent)',fontsize= 22)\n",
    "\n",
    "ax[1].tick_params(axis='both',labelsize=16)\n",
    "ax[1].set_xlabel('Measured', fontsize= 18)\n",
    "ax[1].set_ylabel('Predicted', fontsize= 18)\n",
    "ax[1].set_title('Test Set (Percent)',fontsize= 22);"
   ]
  }
 ],
 "metadata": {
  "kernelspec": {
   "display_name": "Python 3 (ipykernel)",
   "language": "python",
   "name": "python3"
  },
  "language_info": {
   "codemirror_mode": {
    "name": "ipython",
    "version": 3
   },
   "file_extension": ".py",
   "mimetype": "text/x-python",
   "name": "python",
   "nbconvert_exporter": "python",
   "pygments_lexer": "ipython3",
   "version": "3.9.12"
  }
 },
 "nbformat": 4,
 "nbformat_minor": 5
}
