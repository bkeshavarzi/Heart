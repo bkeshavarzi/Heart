{
 "cells": [
  {
   "cell_type": "code",
   "execution_count": 1,
   "id": "070a1358",
   "metadata": {},
   "outputs": [],
   "source": [
    "import numpy as np\n",
    "import pandas as pd\n",
    "import matplotlib.pyplot as plt\n",
    "import seaborn as sns \n",
    "import time\n",
    "import sklearn\n",
    "import scipy"
   ]
  },
  {
   "cell_type": "code",
   "execution_count": 2,
   "id": "8a1e2e93",
   "metadata": {},
   "outputs": [],
   "source": [
    "from sklearn.ensemble import RandomForestClassifier\n",
    "from sklearn.model_selection import train_test_split\n",
    "from sklearn.model_selection import GridSearchCV"
   ]
  },
  {
   "cell_type": "code",
   "execution_count": 3,
   "id": "d09a7274",
   "metadata": {},
   "outputs": [
    {
     "data": {
      "text/html": [
       "<div>\n",
       "<style scoped>\n",
       "    .dataframe tbody tr th:only-of-type {\n",
       "        vertical-align: middle;\n",
       "    }\n",
       "\n",
       "    .dataframe tbody tr th {\n",
       "        vertical-align: top;\n",
       "    }\n",
       "\n",
       "    .dataframe thead th {\n",
       "        text-align: right;\n",
       "    }\n",
       "</style>\n",
       "<table border=\"1\" class=\"dataframe\">\n",
       "  <thead>\n",
       "    <tr style=\"text-align: right;\">\n",
       "      <th></th>\n",
       "      <th>age</th>\n",
       "      <th>sex</th>\n",
       "      <th>cp</th>\n",
       "      <th>trestbps</th>\n",
       "      <th>chol</th>\n",
       "      <th>fbs</th>\n",
       "      <th>restecg</th>\n",
       "      <th>thalach</th>\n",
       "      <th>exang</th>\n",
       "      <th>oldpeak</th>\n",
       "      <th>slope</th>\n",
       "      <th>ca</th>\n",
       "      <th>thal</th>\n",
       "      <th>num</th>\n",
       "    </tr>\n",
       "  </thead>\n",
       "  <tbody>\n",
       "    <tr>\n",
       "      <th>0</th>\n",
       "      <td>63.0</td>\n",
       "      <td>1.0</td>\n",
       "      <td>1.0</td>\n",
       "      <td>145.0</td>\n",
       "      <td>233.0</td>\n",
       "      <td>1.0</td>\n",
       "      <td>2.0</td>\n",
       "      <td>150.0</td>\n",
       "      <td>0.0</td>\n",
       "      <td>2.3</td>\n",
       "      <td>3.0</td>\n",
       "      <td>0.0</td>\n",
       "      <td>6.0</td>\n",
       "      <td>0.0</td>\n",
       "    </tr>\n",
       "    <tr>\n",
       "      <th>1</th>\n",
       "      <td>67.0</td>\n",
       "      <td>1.0</td>\n",
       "      <td>4.0</td>\n",
       "      <td>160.0</td>\n",
       "      <td>286.0</td>\n",
       "      <td>0.0</td>\n",
       "      <td>2.0</td>\n",
       "      <td>108.0</td>\n",
       "      <td>1.0</td>\n",
       "      <td>1.5</td>\n",
       "      <td>2.0</td>\n",
       "      <td>3.0</td>\n",
       "      <td>3.0</td>\n",
       "      <td>2.0</td>\n",
       "    </tr>\n",
       "    <tr>\n",
       "      <th>2</th>\n",
       "      <td>67.0</td>\n",
       "      <td>1.0</td>\n",
       "      <td>4.0</td>\n",
       "      <td>120.0</td>\n",
       "      <td>229.0</td>\n",
       "      <td>0.0</td>\n",
       "      <td>2.0</td>\n",
       "      <td>129.0</td>\n",
       "      <td>1.0</td>\n",
       "      <td>2.6</td>\n",
       "      <td>2.0</td>\n",
       "      <td>2.0</td>\n",
       "      <td>7.0</td>\n",
       "      <td>1.0</td>\n",
       "    </tr>\n",
       "  </tbody>\n",
       "</table>\n",
       "</div>"
      ],
      "text/plain": [
       "    age  sex   cp  trestbps   chol  fbs  restecg  thalach  exang  oldpeak  \\\n",
       "0  63.0  1.0  1.0     145.0  233.0  1.0      2.0    150.0    0.0      2.3   \n",
       "1  67.0  1.0  4.0     160.0  286.0  0.0      2.0    108.0    1.0      1.5   \n",
       "2  67.0  1.0  4.0     120.0  229.0  0.0      2.0    129.0    1.0      2.6   \n",
       "\n",
       "   slope   ca  thal  num  \n",
       "0    3.0  0.0   6.0  0.0  \n",
       "1    2.0  3.0   3.0  2.0  \n",
       "2    2.0  2.0   7.0  1.0  "
      ]
     },
     "execution_count": 3,
     "metadata": {},
     "output_type": "execute_result"
    }
   ],
   "source": [
    "heart = pd.read_csv('FinalHeart.csv')\n",
    "heart.drop(['Unnamed: 0'],axis=1,inplace=True)\n",
    "heart.head(3)"
   ]
  },
  {
   "cell_type": "code",
   "execution_count": 4,
   "id": "7bbbf7a2",
   "metadata": {},
   "outputs": [],
   "source": [
    "X = heart.drop(['num'],axis=1).copy()\n",
    "Y = heart.num.copy()"
   ]
  },
  {
   "cell_type": "code",
   "execution_count": 5,
   "id": "9e8c12b3",
   "metadata": {},
   "outputs": [],
   "source": [
    "X_train, X_test, Y_train, Y_test = train_test_split(X,Y, test_size= 0.33, stratify=Y)"
   ]
  },
  {
   "cell_type": "code",
   "execution_count": 6,
   "id": "68855a80",
   "metadata": {},
   "outputs": [],
   "source": [
    "rfc = RandomForestClassifier()"
   ]
  },
  {
   "cell_type": "code",
   "execution_count": 7,
   "id": "1ec0aff9",
   "metadata": {},
   "outputs": [
    {
     "data": {
      "text/plain": [
       "{'bootstrap': True,\n",
       " 'ccp_alpha': 0.0,\n",
       " 'class_weight': None,\n",
       " 'criterion': 'gini',\n",
       " 'max_depth': None,\n",
       " 'max_features': 'auto',\n",
       " 'max_leaf_nodes': None,\n",
       " 'max_samples': None,\n",
       " 'min_impurity_decrease': 0.0,\n",
       " 'min_samples_leaf': 1,\n",
       " 'min_samples_split': 2,\n",
       " 'min_weight_fraction_leaf': 0.0,\n",
       " 'n_estimators': 100,\n",
       " 'n_jobs': None,\n",
       " 'oob_score': False,\n",
       " 'random_state': None,\n",
       " 'verbose': 0,\n",
       " 'warm_start': False}"
      ]
     },
     "execution_count": 7,
     "metadata": {},
     "output_type": "execute_result"
    }
   ],
   "source": [
    "rfc.get_params()"
   ]
  },
  {
   "cell_type": "code",
   "execution_count": 8,
   "id": "09ae8619",
   "metadata": {},
   "outputs": [
    {
     "name": "stdout",
     "output_type": "stream",
     "text": [
      "CPU times: total: 1.41 s\n",
      "Wall time: 1.72 s\n",
      "Train score is :1.0\n",
      "Test score is :0.622\n"
     ]
    }
   ],
   "source": [
    "rfc.set_params( n_estimators = 500)\n",
    "%time rfc.fit(X_train, Y_train)\n",
    "r2_train = np.round(rfc.score(X_train, Y_train),3)\n",
    "r2_test  = np.round(rfc.score(X_test, Y_test),3)\n",
    "print('Train score is :' + str(r2_train))\n",
    "print('Test score is :' + str(r2_test))"
   ]
  },
  {
   "cell_type": "code",
   "execution_count": 9,
   "id": "9f404f99",
   "metadata": {},
   "outputs": [],
   "source": [
    "#?rfc"
   ]
  },
  {
   "cell_type": "code",
   "execution_count": 11,
   "id": "aac5c4b5",
   "metadata": {},
   "outputs": [],
   "source": [
    "criterion      = ['gini','entropy']\n",
    "max_depth      = np.arange(1,20, 5)\n",
    "\n",
    "#max_features   = list(np.arange(1,14,2))\n",
    "max_features = list(['auto','sqrt'])\n",
    "\n",
    "max_leaf_nodes = np.arange(1,20,5)\n",
    "min_samples_leaf  = np.arange(1,20,5)\n",
    "min_samples_split = np.arange(2,20,5)\n",
    "#class_weight  = ['balanced','balanced_subsample','None']\n",
    "\n",
    "n_estimators  = 500\n",
    "n_jobs = -1\n",
    "random_state = 144"
   ]
  },
  {
   "cell_type": "code",
   "execution_count": 12,
   "id": "c3925edb",
   "metadata": {},
   "outputs": [
    {
     "name": "stderr",
     "output_type": "stream",
     "text": [
      "C:\\ProgramData\\Anaconda3\\lib\\site-packages\\sklearn\\model_selection\\_validation.py:372: FitFailedWarning: \n",
      "768 fits failed out of a total of 3072.\n",
      "The score on these train-test partitions for these parameters will be set to nan.\n",
      "If these failures are not expected, you can try to debug them by setting error_score='raise'.\n",
      "\n",
      "Below are more details about the failures:\n",
      "--------------------------------------------------------------------------------\n",
      "768 fits failed with the following error:\n",
      "Traceback (most recent call last):\n",
      "  File \"C:\\ProgramData\\Anaconda3\\lib\\site-packages\\sklearn\\model_selection\\_validation.py\", line 680, in _fit_and_score\n",
      "    estimator.fit(X_train, y_train, **fit_params)\n",
      "  File \"C:\\ProgramData\\Anaconda3\\lib\\site-packages\\sklearn\\ensemble\\_forest.py\", line 450, in fit\n",
      "    trees = Parallel(\n",
      "  File \"C:\\ProgramData\\Anaconda3\\lib\\site-packages\\joblib\\parallel.py\", line 1043, in __call__\n",
      "    if self.dispatch_one_batch(iterator):\n",
      "  File \"C:\\ProgramData\\Anaconda3\\lib\\site-packages\\joblib\\parallel.py\", line 861, in dispatch_one_batch\n",
      "    self._dispatch(tasks)\n",
      "  File \"C:\\ProgramData\\Anaconda3\\lib\\site-packages\\joblib\\parallel.py\", line 779, in _dispatch\n",
      "    job = self._backend.apply_async(batch, callback=cb)\n",
      "  File \"C:\\ProgramData\\Anaconda3\\lib\\site-packages\\joblib\\_parallel_backends.py\", line 208, in apply_async\n",
      "    result = ImmediateResult(func)\n",
      "  File \"C:\\ProgramData\\Anaconda3\\lib\\site-packages\\joblib\\_parallel_backends.py\", line 572, in __init__\n",
      "    self.results = batch()\n",
      "  File \"C:\\ProgramData\\Anaconda3\\lib\\site-packages\\joblib\\parallel.py\", line 262, in __call__\n",
      "    return [func(*args, **kwargs)\n",
      "  File \"C:\\ProgramData\\Anaconda3\\lib\\site-packages\\joblib\\parallel.py\", line 262, in <listcomp>\n",
      "    return [func(*args, **kwargs)\n",
      "  File \"C:\\ProgramData\\Anaconda3\\lib\\site-packages\\sklearn\\utils\\fixes.py\", line 216, in __call__\n",
      "    return self.function(*args, **kwargs)\n",
      "  File \"C:\\ProgramData\\Anaconda3\\lib\\site-packages\\sklearn\\ensemble\\_forest.py\", line 185, in _parallel_build_trees\n",
      "    tree.fit(X, y, sample_weight=curr_sample_weight, check_input=False)\n",
      "  File \"C:\\ProgramData\\Anaconda3\\lib\\site-packages\\sklearn\\tree\\_classes.py\", line 937, in fit\n",
      "    super().fit(\n",
      "  File \"C:\\ProgramData\\Anaconda3\\lib\\site-packages\\sklearn\\tree\\_classes.py\", line 314, in fit\n",
      "    raise ValueError(\n",
      "ValueError: max_leaf_nodes 1 must be either None or larger than 1\n",
      "\n",
      "  warnings.warn(some_fits_failed_message, FitFailedWarning)\n",
      "C:\\ProgramData\\Anaconda3\\lib\\site-packages\\sklearn\\model_selection\\_search.py:969: UserWarning: One or more of the test scores are non-finite: [       nan        nan        nan ... 0.64315476 0.64315476 0.64315476]\n",
      "  warnings.warn(\n",
      "C:\\ProgramData\\Anaconda3\\lib\\site-packages\\sklearn\\model_selection\\_search.py:969: UserWarning: One or more of the train scores are non-finite: [      nan       nan       nan ... 0.6618293 0.6618293 0.6618293]\n",
      "  warnings.warn(\n"
     ]
    },
    {
     "name": "stdout",
     "output_type": "stream",
     "text": [
      "CPU times: total: 40min 49s\n",
      "Wall time: 43min 2s\n"
     ]
    },
    {
     "data": {
      "text/plain": [
       "GridSearchCV(cv=3,\n",
       "             estimator=RandomForestClassifier(n_estimators=500,\n",
       "                                              random_state=144),\n",
       "             param_grid={'criterion': ['gini', 'entropy'],\n",
       "                         'max_depth': array([ 1,  6, 11, 16]),\n",
       "                         'max_features': ['auto', 'sqrt'],\n",
       "                         'max_leaf_nodes': array([ 1,  6, 11, 16]),\n",
       "                         'min_samples_leaf': array([ 1,  6, 11, 16]),\n",
       "                         'min_samples_split': array([ 2,  7, 12, 17])},\n",
       "             return_train_score=True)"
      ]
     },
     "execution_count": 12,
     "metadata": {},
     "output_type": "execute_result"
    }
   ],
   "source": [
    "rfc_grid = RandomForestClassifier()\n",
    "rfc_grid.set_params(random_state = 144, n_estimators  = 500)\n",
    "\n",
    "param_grid = {'criterion':criterion, 'max_depth':max_depth, 'max_features':max_features, 'max_leaf_nodes':max_leaf_nodes,\n",
    "             'min_samples_leaf':min_samples_leaf, 'min_samples_split':min_samples_split}\n",
    "\n",
    "rfc_grid = GridSearchCV(rfc_grid, param_grid, cv = 3, return_train_score=True)\n",
    "\n",
    "%time rfc_grid.fit(X_train, Y_train)"
   ]
  },
  {
   "cell_type": "code",
   "execution_count": 14,
   "id": "dc7cd25d",
   "metadata": {},
   "outputs": [
    {
     "data": {
      "text/plain": [
       "(1024, 22)"
      ]
     },
     "execution_count": 14,
     "metadata": {},
     "output_type": "execute_result"
    }
   ],
   "source": [
    "rfc_df = pd.DataFrame(rfc_grid.cv_results_)\n",
    "rfc_df.shape"
   ]
  },
  {
   "cell_type": "code",
   "execution_count": 16,
   "id": "40e70303",
   "metadata": {},
   "outputs": [],
   "source": [
    "rfc_df.dropna(axis=0,how='any',inplace=True)"
   ]
  },
  {
   "cell_type": "code",
   "execution_count": 17,
   "id": "042a2119",
   "metadata": {},
   "outputs": [
    {
     "data": {
      "text/plain": [
       "(768, 22)"
      ]
     },
     "execution_count": 17,
     "metadata": {},
     "output_type": "execute_result"
    }
   ],
   "source": [
    "rfc_df.shape"
   ]
  },
  {
   "cell_type": "code",
   "execution_count": 18,
   "id": "4473f135",
   "metadata": {},
   "outputs": [],
   "source": [
    "#rfc_df.to_csv('rfc_final.csv')"
   ]
  },
  {
   "cell_type": "code",
   "execution_count": 19,
   "id": "345dc1c3",
   "metadata": {},
   "outputs": [
    {
     "data": {
      "text/html": [
       "<div>\n",
       "<style scoped>\n",
       "    .dataframe tbody tr th:only-of-type {\n",
       "        vertical-align: middle;\n",
       "    }\n",
       "\n",
       "    .dataframe tbody tr th {\n",
       "        vertical-align: top;\n",
       "    }\n",
       "\n",
       "    .dataframe thead th {\n",
       "        text-align: right;\n",
       "    }\n",
       "</style>\n",
       "<table border=\"1\" class=\"dataframe\">\n",
       "  <thead>\n",
       "    <tr style=\"text-align: right;\">\n",
       "      <th></th>\n",
       "      <th>mean_fit_time</th>\n",
       "      <th>std_fit_time</th>\n",
       "      <th>mean_score_time</th>\n",
       "      <th>std_score_time</th>\n",
       "      <th>param_criterion</th>\n",
       "      <th>param_max_depth</th>\n",
       "      <th>param_max_features</th>\n",
       "      <th>param_max_leaf_nodes</th>\n",
       "      <th>param_min_samples_leaf</th>\n",
       "      <th>param_min_samples_split</th>\n",
       "      <th>...</th>\n",
       "      <th>split1_test_score</th>\n",
       "      <th>split2_test_score</th>\n",
       "      <th>mean_test_score</th>\n",
       "      <th>std_test_score</th>\n",
       "      <th>rank_test_score</th>\n",
       "      <th>split0_train_score</th>\n",
       "      <th>split1_train_score</th>\n",
       "      <th>split2_train_score</th>\n",
       "      <th>mean_train_score</th>\n",
       "      <th>std_train_score</th>\n",
       "    </tr>\n",
       "  </thead>\n",
       "  <tbody>\n",
       "    <tr>\n",
       "      <th>737</th>\n",
       "      <td>0.724471</td>\n",
       "      <td>0.006492</td>\n",
       "      <td>0.058461</td>\n",
       "      <td>0.002755</td>\n",
       "      <td>entropy</td>\n",
       "      <td>6</td>\n",
       "      <td>sqrt</td>\n",
       "      <td>11</td>\n",
       "      <td>1</td>\n",
       "      <td>7</td>\n",
       "      <td>...</td>\n",
       "      <td>0.639752</td>\n",
       "      <td>0.65625</td>\n",
       "      <td>0.655603</td>\n",
       "      <td>0.012687</td>\n",
       "      <td>61</td>\n",
       "      <td>0.719626</td>\n",
       "      <td>0.719626</td>\n",
       "      <td>0.692547</td>\n",
       "      <td>0.710600</td>\n",
       "      <td>0.012765</td>\n",
       "    </tr>\n",
       "    <tr>\n",
       "      <th>242</th>\n",
       "      <td>1.149870</td>\n",
       "      <td>0.054439</td>\n",
       "      <td>0.099363</td>\n",
       "      <td>0.003273</td>\n",
       "      <td>gini</td>\n",
       "      <td>6</td>\n",
       "      <td>sqrt</td>\n",
       "      <td>16</td>\n",
       "      <td>1</td>\n",
       "      <td>12</td>\n",
       "      <td>...</td>\n",
       "      <td>0.664596</td>\n",
       "      <td>0.64375</td>\n",
       "      <td>0.657648</td>\n",
       "      <td>0.009827</td>\n",
       "      <td>57</td>\n",
       "      <td>0.753894</td>\n",
       "      <td>0.747664</td>\n",
       "      <td>0.754658</td>\n",
       "      <td>0.752072</td>\n",
       "      <td>0.003133</td>\n",
       "    </tr>\n",
       "    <tr>\n",
       "      <th>87</th>\n",
       "      <td>1.207306</td>\n",
       "      <td>0.086301</td>\n",
       "      <td>0.108365</td>\n",
       "      <td>0.015711</td>\n",
       "      <td>gini</td>\n",
       "      <td>1</td>\n",
       "      <td>sqrt</td>\n",
       "      <td>6</td>\n",
       "      <td>6</td>\n",
       "      <td>17</td>\n",
       "      <td>...</td>\n",
       "      <td>0.590062</td>\n",
       "      <td>0.58125</td>\n",
       "      <td>0.591266</td>\n",
       "      <td>0.008711</td>\n",
       "      <td>625</td>\n",
       "      <td>0.591900</td>\n",
       "      <td>0.598131</td>\n",
       "      <td>0.599379</td>\n",
       "      <td>0.596470</td>\n",
       "      <td>0.003271</td>\n",
       "    </tr>\n",
       "    <tr>\n",
       "      <th>624</th>\n",
       "      <td>0.659606</td>\n",
       "      <td>0.053757</td>\n",
       "      <td>0.062018</td>\n",
       "      <td>0.000035</td>\n",
       "      <td>entropy</td>\n",
       "      <td>1</td>\n",
       "      <td>sqrt</td>\n",
       "      <td>16</td>\n",
       "      <td>1</td>\n",
       "      <td>2</td>\n",
       "      <td>...</td>\n",
       "      <td>0.552795</td>\n",
       "      <td>0.59375</td>\n",
       "      <td>0.572658</td>\n",
       "      <td>0.016742</td>\n",
       "      <td>673</td>\n",
       "      <td>0.573209</td>\n",
       "      <td>0.588785</td>\n",
       "      <td>0.590062</td>\n",
       "      <td>0.584019</td>\n",
       "      <td>0.007662</td>\n",
       "    </tr>\n",
       "    <tr>\n",
       "      <th>319</th>\n",
       "      <td>0.722580</td>\n",
       "      <td>0.016298</td>\n",
       "      <td>0.067000</td>\n",
       "      <td>0.002160</td>\n",
       "      <td>gini</td>\n",
       "      <td>11</td>\n",
       "      <td>auto</td>\n",
       "      <td>16</td>\n",
       "      <td>16</td>\n",
       "      <td>17</td>\n",
       "      <td>...</td>\n",
       "      <td>0.627329</td>\n",
       "      <td>0.63750</td>\n",
       "      <td>0.641071</td>\n",
       "      <td>0.012928</td>\n",
       "      <td>415</td>\n",
       "      <td>0.660436</td>\n",
       "      <td>0.666667</td>\n",
       "      <td>0.661491</td>\n",
       "      <td>0.662864</td>\n",
       "      <td>0.002723</td>\n",
       "    </tr>\n",
       "  </tbody>\n",
       "</table>\n",
       "<p>5 rows × 22 columns</p>\n",
       "</div>"
      ],
      "text/plain": [
       "     mean_fit_time  std_fit_time  mean_score_time  std_score_time  \\\n",
       "737       0.724471      0.006492         0.058461        0.002755   \n",
       "242       1.149870      0.054439         0.099363        0.003273   \n",
       "87        1.207306      0.086301         0.108365        0.015711   \n",
       "624       0.659606      0.053757         0.062018        0.000035   \n",
       "319       0.722580      0.016298         0.067000        0.002160   \n",
       "\n",
       "    param_criterion param_max_depth param_max_features param_max_leaf_nodes  \\\n",
       "737         entropy               6               sqrt                   11   \n",
       "242            gini               6               sqrt                   16   \n",
       "87             gini               1               sqrt                    6   \n",
       "624         entropy               1               sqrt                   16   \n",
       "319            gini              11               auto                   16   \n",
       "\n",
       "    param_min_samples_leaf param_min_samples_split  ... split1_test_score  \\\n",
       "737                      1                       7  ...          0.639752   \n",
       "242                      1                      12  ...          0.664596   \n",
       "87                       6                      17  ...          0.590062   \n",
       "624                      1                       2  ...          0.552795   \n",
       "319                     16                      17  ...          0.627329   \n",
       "\n",
       "     split2_test_score  mean_test_score  std_test_score  rank_test_score  \\\n",
       "737            0.65625         0.655603        0.012687               61   \n",
       "242            0.64375         0.657648        0.009827               57   \n",
       "87             0.58125         0.591266        0.008711              625   \n",
       "624            0.59375         0.572658        0.016742              673   \n",
       "319            0.63750         0.641071        0.012928              415   \n",
       "\n",
       "     split0_train_score  split1_train_score  split2_train_score  \\\n",
       "737            0.719626            0.719626            0.692547   \n",
       "242            0.753894            0.747664            0.754658   \n",
       "87             0.591900            0.598131            0.599379   \n",
       "624            0.573209            0.588785            0.590062   \n",
       "319            0.660436            0.666667            0.661491   \n",
       "\n",
       "     mean_train_score  std_train_score  \n",
       "737          0.710600         0.012765  \n",
       "242          0.752072         0.003133  \n",
       "87           0.596470         0.003271  \n",
       "624          0.584019         0.007662  \n",
       "319          0.662864         0.002723  \n",
       "\n",
       "[5 rows x 22 columns]"
      ]
     },
     "execution_count": 19,
     "metadata": {},
     "output_type": "execute_result"
    }
   ],
   "source": [
    "rfc_df.sample(5)"
   ]
  },
  {
   "cell_type": "code",
   "execution_count": 20,
   "id": "9cf25b58",
   "metadata": {},
   "outputs": [
    {
     "data": {
      "text/plain": [
       "Index(['mean_fit_time', 'std_fit_time', 'mean_score_time', 'std_score_time',\n",
       "       'param_criterion', 'param_max_depth', 'param_max_features',\n",
       "       'param_max_leaf_nodes', 'param_min_samples_leaf',\n",
       "       'param_min_samples_split', 'params', 'split0_test_score',\n",
       "       'split1_test_score', 'split2_test_score', 'mean_test_score',\n",
       "       'std_test_score', 'rank_test_score', 'split0_train_score',\n",
       "       'split1_train_score', 'split2_train_score', 'mean_train_score',\n",
       "       'std_train_score'],\n",
       "      dtype='object')"
      ]
     },
     "execution_count": 20,
     "metadata": {},
     "output_type": "execute_result"
    }
   ],
   "source": [
    "rfc_df.columns"
   ]
  },
  {
   "cell_type": "code",
   "execution_count": 21,
   "id": "3917d08b",
   "metadata": {},
   "outputs": [],
   "source": [
    "rfc_final_df = rfc_df.loc[:,['param_criterion','param_max_depth','param_max_features',\n",
    "                            'param_max_leaf_nodes','param_min_samples_leaf','param_min_samples_split',\n",
    "                            'mean_train_score','mean_test_score']]"
   ]
  },
  {
   "cell_type": "code",
   "execution_count": 22,
   "id": "c3e8f77b",
   "metadata": {},
   "outputs": [],
   "source": [
    "rfc_final_df.to_csv('rfc_final.csv')"
   ]
  },
  {
   "cell_type": "code",
   "execution_count": 23,
   "id": "ba6dc171",
   "metadata": {},
   "outputs": [
    {
     "data": {
      "text/html": [
       "<div>\n",
       "<style scoped>\n",
       "    .dataframe tbody tr th:only-of-type {\n",
       "        vertical-align: middle;\n",
       "    }\n",
       "\n",
       "    .dataframe tbody tr th {\n",
       "        vertical-align: top;\n",
       "    }\n",
       "\n",
       "    .dataframe thead th {\n",
       "        text-align: right;\n",
       "    }\n",
       "</style>\n",
       "<table border=\"1\" class=\"dataframe\">\n",
       "  <thead>\n",
       "    <tr style=\"text-align: right;\">\n",
       "      <th></th>\n",
       "      <th>param_criterion</th>\n",
       "      <th>param_max_depth</th>\n",
       "      <th>param_max_features</th>\n",
       "      <th>param_max_leaf_nodes</th>\n",
       "      <th>param_min_samples_leaf</th>\n",
       "      <th>param_min_samples_split</th>\n",
       "      <th>mean_train_score</th>\n",
       "      <th>mean_test_score</th>\n",
       "    </tr>\n",
       "  </thead>\n",
       "  <tbody>\n",
       "    <tr>\n",
       "      <th>954</th>\n",
       "      <td>entropy</td>\n",
       "      <td>16</td>\n",
       "      <td>auto</td>\n",
       "      <td>16</td>\n",
       "      <td>11</td>\n",
       "      <td>12</td>\n",
       "      <td>0.682582</td>\n",
       "      <td>0.649379</td>\n",
       "    </tr>\n",
       "    <tr>\n",
       "      <th>915</th>\n",
       "      <td>entropy</td>\n",
       "      <td>16</td>\n",
       "      <td>auto</td>\n",
       "      <td>6</td>\n",
       "      <td>1</td>\n",
       "      <td>17</td>\n",
       "      <td>0.664948</td>\n",
       "      <td>0.643155</td>\n",
       "    </tr>\n",
       "    <tr>\n",
       "      <th>599</th>\n",
       "      <td>entropy</td>\n",
       "      <td>1</td>\n",
       "      <td>sqrt</td>\n",
       "      <td>6</td>\n",
       "      <td>6</td>\n",
       "      <td>17</td>\n",
       "      <td>0.584019</td>\n",
       "      <td>0.572658</td>\n",
       "    </tr>\n",
       "    <tr>\n",
       "      <th>890</th>\n",
       "      <td>entropy</td>\n",
       "      <td>11</td>\n",
       "      <td>sqrt</td>\n",
       "      <td>16</td>\n",
       "      <td>11</td>\n",
       "      <td>12</td>\n",
       "      <td>0.682582</td>\n",
       "      <td>0.649379</td>\n",
       "    </tr>\n",
       "    <tr>\n",
       "      <th>976</th>\n",
       "      <td>entropy</td>\n",
       "      <td>16</td>\n",
       "      <td>sqrt</td>\n",
       "      <td>6</td>\n",
       "      <td>1</td>\n",
       "      <td>2</td>\n",
       "      <td>0.665986</td>\n",
       "      <td>0.647296</td>\n",
       "    </tr>\n",
       "  </tbody>\n",
       "</table>\n",
       "</div>"
      ],
      "text/plain": [
       "    param_criterion param_max_depth param_max_features param_max_leaf_nodes  \\\n",
       "954         entropy              16               auto                   16   \n",
       "915         entropy              16               auto                    6   \n",
       "599         entropy               1               sqrt                    6   \n",
       "890         entropy              11               sqrt                   16   \n",
       "976         entropy              16               sqrt                    6   \n",
       "\n",
       "    param_min_samples_leaf param_min_samples_split  mean_train_score  \\\n",
       "954                     11                      12          0.682582   \n",
       "915                      1                      17          0.664948   \n",
       "599                      6                      17          0.584019   \n",
       "890                     11                      12          0.682582   \n",
       "976                      1                       2          0.665986   \n",
       "\n",
       "     mean_test_score  \n",
       "954         0.649379  \n",
       "915         0.643155  \n",
       "599         0.572658  \n",
       "890         0.649379  \n",
       "976         0.647296  "
      ]
     },
     "execution_count": 23,
     "metadata": {},
     "output_type": "execute_result"
    }
   ],
   "source": [
    "rfc_final_df.sample(5)"
   ]
  },
  {
   "cell_type": "code",
   "execution_count": null,
   "id": "27c46472",
   "metadata": {},
   "outputs": [],
   "source": []
  }
 ],
 "metadata": {
  "kernelspec": {
   "display_name": "Python 3 (ipykernel)",
   "language": "python",
   "name": "python3"
  },
  "language_info": {
   "codemirror_mode": {
    "name": "ipython",
    "version": 3
   },
   "file_extension": ".py",
   "mimetype": "text/x-python",
   "name": "python",
   "nbconvert_exporter": "python",
   "pygments_lexer": "ipython3",
   "version": "3.9.12"
  }
 },
 "nbformat": 4,
 "nbformat_minor": 5
}
